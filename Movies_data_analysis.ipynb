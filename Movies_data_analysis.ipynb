{
 "cells": [
  {
   "cell_type": "markdown",
   "metadata": {},
   "source": [
    "# Importing the packages"
   ]
  },
  {
   "cell_type": "code",
   "execution_count": 1,
   "metadata": {},
   "outputs": [],
   "source": [
    "import operator\n",
    "import pandas as pd\n",
    "import seaborn as sns\n",
    "import sqlite3\n",
    "import matplotlib.pyplot as plt\n",
    "\n",
    "from collections import Counter\n",
    "from tqdm import tqdm\n",
    "\n",
    "tqdm.pandas()\n",
    "%matplotlib inline"
   ]
  },
  {
   "cell_type": "markdown",
   "metadata": {},
   "source": [
    "## Reading all the datasets."
   ]
  },
  {
   "cell_type": "code",
   "execution_count": 3,
   "metadata": {},
   "outputs": [],
   "source": [
    "# Reading the actors dataset.\n",
    "df_actors = pd.read_csv('dataset/Movie_Actors.csv')\n",
    "\n",
    "# Reading the rating dataset.\n",
    "df_ratings = pd.read_csv('dataset/Movie_AdditionalRating.csv')\n",
    "\n",
    "# Reading the genres dataset.\n",
    "df_genres = pd.read_csv('dataset/Movie_Genres.csv')\n",
    "\n",
    "# Reading the movies dataset.\n",
    "df_movies = pd.read_csv('dataset/Movie_Movies.csv')\n",
    "\n",
    "# Reading the writers dataset.\n",
    "df_writers = pd.read_csv('dataset/Movie_Writer.csv')"
   ]
  },
  {
   "cell_type": "code",
   "execution_count": null,
   "metadata": {},
   "outputs": [],
   "source": []
  },
  {
   "cell_type": "markdown",
   "metadata": {},
   "source": [
    "# 1) Insights from the datasets."
   ]
  },
  {
   "cell_type": "code",
   "execution_count": null,
   "metadata": {},
   "outputs": [],
   "source": []
  },
  {
   "cell_type": "markdown",
   "metadata": {},
   "source": [
    "## i) Insights about the Actors Dataset."
   ]
  },
  {
   "cell_type": "code",
   "execution_count": 4,
   "metadata": {},
   "outputs": [
    {
     "data": {
      "text/html": [
       "<div>\n",
       "<style scoped>\n",
       "    .dataframe tbody tr th:only-of-type {\n",
       "        vertical-align: middle;\n",
       "    }\n",
       "\n",
       "    .dataframe tbody tr th {\n",
       "        vertical-align: top;\n",
       "    }\n",
       "\n",
       "    .dataframe thead th {\n",
       "        text-align: right;\n",
       "    }\n",
       "</style>\n",
       "<table border=\"1\" class=\"dataframe\">\n",
       "  <thead>\n",
       "    <tr style=\"text-align: right;\">\n",
       "      <th></th>\n",
       "      <th>Unnamed: 0</th>\n",
       "      <th>Actors</th>\n",
       "      <th>imdbID</th>\n",
       "    </tr>\n",
       "  </thead>\n",
       "  <tbody>\n",
       "    <tr>\n",
       "      <th>0</th>\n",
       "      <td>0</td>\n",
       "      <td>Cass Barbera</td>\n",
       "      <td>tt2268369</td>\n",
       "    </tr>\n",
       "    <tr>\n",
       "      <th>1</th>\n",
       "      <td>2</td>\n",
       "      <td>Charles A. Post</td>\n",
       "      <td>tt0016750</td>\n",
       "    </tr>\n",
       "    <tr>\n",
       "      <th>2</th>\n",
       "      <td>3</td>\n",
       "      <td>Samuel Green</td>\n",
       "      <td>tt3405286</td>\n",
       "    </tr>\n",
       "    <tr>\n",
       "      <th>3</th>\n",
       "      <td>4</td>\n",
       "      <td>Surin Mendis</td>\n",
       "      <td>tt3816698</td>\n",
       "    </tr>\n",
       "    <tr>\n",
       "      <th>4</th>\n",
       "      <td>7</td>\n",
       "      <td>Baby Rube</td>\n",
       "      <td>tt0328410</td>\n",
       "    </tr>\n",
       "  </tbody>\n",
       "</table>\n",
       "</div>"
      ],
      "text/plain": [
       "   Unnamed: 0            Actors     imdbID\n",
       "0           0      Cass Barbera  tt2268369\n",
       "1           2   Charles A. Post  tt0016750\n",
       "2           3      Samuel Green  tt3405286\n",
       "3           4      Surin Mendis  tt3816698\n",
       "4           7         Baby Rube  tt0328410"
      ]
     },
     "execution_count": 4,
     "metadata": {},
     "output_type": "execute_result"
    }
   ],
   "source": [
    "# first 5 rows from the actors dataset to see the features of this dataset.\n",
    "df_actors.head()"
   ]
  },
  {
   "cell_type": "code",
   "execution_count": 5,
   "metadata": {},
   "outputs": [
    {
     "name": "stdout",
     "output_type": "stream",
     "text": [
      "Total Numbers of rows. 143869 \n",
      "\n",
      "Information about the dataset. \n",
      "\n",
      "<class 'pandas.core.frame.DataFrame'>\n",
      "RangeIndex: 143869 entries, 0 to 143868\n",
      "Data columns (total 3 columns):\n",
      "Unnamed: 0    143869 non-null int64\n",
      "Actors        143869 non-null object\n",
      "imdbID        143869 non-null object\n",
      "dtypes: int64(1), object(2)\n",
      "memory usage: 3.3+ MB\n"
     ]
    }
   ],
   "source": [
    "print('Total Numbers of rows.', len(df_actors), '\\n')\n",
    "print('Information about the dataset.', '\\n')\n",
    "df_actors.info()"
   ]
  },
  {
   "cell_type": "code",
   "execution_count": 6,
   "metadata": {},
   "outputs": [],
   "source": [
    "#finding the actor who appears most frequently in movies.\n",
    "actors_with_most_movies = dict(sorted(dict(Counter(df_actors.Actors.tolist())).items(), key=operator.itemgetter(1),reverse=True))"
   ]
  },
  {
   "cell_type": "code",
   "execution_count": 7,
   "metadata": {},
   "outputs": [
    {
     "name": "stdout",
     "output_type": "stream",
     "text": [
      "The actor Mel Blanc occured in 88 movies.\n",
      "The actor Tim Turner occured in 67 movies.\n",
      "The actor  Mark Davis occured in 48 movies.\n",
      "The actor  Ron Jeremy occured in 47 movies.\n",
      "The actor  Peter North occured in 43 movies.\n",
      "The actor King Edward VII occured in 43 movies.\n",
      "The actor  Erik Everhard occured in 39 movies.\n",
      "The actor  James Deen occured in 39 movies.\n",
      "The actor  Tommy Gunn occured in 33 movies.\n",
      "The actor Fred Evans occured in 33 movies.\n",
      "The actor  Sean Michaels occured in 32 movies.\n"
     ]
    }
   ],
   "source": [
    "# printing the first 10 actors with most number of movies.\n",
    "for i, (name, times) in enumerate(actors_with_most_movies.items()):\n",
    "    if i > 10:\n",
    "        break\n",
    "    print('The actor {} occured in {} movies.'.format(name, times))"
   ]
  },
  {
   "cell_type": "code",
   "execution_count": null,
   "metadata": {},
   "outputs": [],
   "source": []
  },
  {
   "cell_type": "markdown",
   "metadata": {},
   "source": [
    "## ii) insights about the Additional Ratings."
   ]
  },
  {
   "cell_type": "code",
   "execution_count": 8,
   "metadata": {},
   "outputs": [
    {
     "data": {
      "text/html": [
       "<div>\n",
       "<style scoped>\n",
       "    .dataframe tbody tr th:only-of-type {\n",
       "        vertical-align: middle;\n",
       "    }\n",
       "\n",
       "    .dataframe tbody tr th {\n",
       "        vertical-align: top;\n",
       "    }\n",
       "\n",
       "    .dataframe thead th {\n",
       "        text-align: right;\n",
       "    }\n",
       "</style>\n",
       "<table border=\"1\" class=\"dataframe\">\n",
       "  <thead>\n",
       "    <tr style=\"text-align: right;\">\n",
       "      <th></th>\n",
       "      <th>Unnamed: 0</th>\n",
       "      <th>Rating</th>\n",
       "      <th>RatingSource</th>\n",
       "      <th>imdbID</th>\n",
       "    </tr>\n",
       "  </thead>\n",
       "  <tbody>\n",
       "    <tr>\n",
       "      <th>0</th>\n",
       "      <td>0</td>\n",
       "      <td>6.9/10</td>\n",
       "      <td>Internet Movie Database</td>\n",
       "      <td>tt1006835</td>\n",
       "    </tr>\n",
       "    <tr>\n",
       "      <th>1</th>\n",
       "      <td>1</td>\n",
       "      <td>2.4/10</td>\n",
       "      <td>Internet Movie Database</td>\n",
       "      <td>tt2554714</td>\n",
       "    </tr>\n",
       "    <tr>\n",
       "      <th>2</th>\n",
       "      <td>2</td>\n",
       "      <td>6.3/10</td>\n",
       "      <td>Internet Movie Database</td>\n",
       "      <td>tt1090670</td>\n",
       "    </tr>\n",
       "    <tr>\n",
       "      <th>3</th>\n",
       "      <td>3</td>\n",
       "      <td>5.5/10</td>\n",
       "      <td>Internet Movie Database</td>\n",
       "      <td>tt1990255</td>\n",
       "    </tr>\n",
       "    <tr>\n",
       "      <th>4</th>\n",
       "      <td>4</td>\n",
       "      <td>5.0/10</td>\n",
       "      <td>Internet Movie Database</td>\n",
       "      <td>tt0206367</td>\n",
       "    </tr>\n",
       "  </tbody>\n",
       "</table>\n",
       "</div>"
      ],
      "text/plain": [
       "   Unnamed: 0   Rating              RatingSource     imdbID\n",
       "0           0   6.9/10   Internet Movie Database  tt1006835\n",
       "1           1   2.4/10   Internet Movie Database  tt2554714\n",
       "2           2   6.3/10   Internet Movie Database  tt1090670\n",
       "3           3   5.5/10   Internet Movie Database  tt1990255\n",
       "4           4   5.0/10   Internet Movie Database  tt0206367"
      ]
     },
     "execution_count": 8,
     "metadata": {},
     "output_type": "execute_result"
    }
   ],
   "source": [
    "# first 5 rows from the ratings dataset to see the features of this dataset.\n",
    "df_ratings.head()"
   ]
  },
  {
   "cell_type": "code",
   "execution_count": 9,
   "metadata": {},
   "outputs": [
    {
     "name": "stdout",
     "output_type": "stream",
     "text": [
      "Total Numbers of rows. 92016 \n",
      "\n",
      "Information about the dataset. \n",
      "\n",
      "<class 'pandas.core.frame.DataFrame'>\n",
      "RangeIndex: 92016 entries, 0 to 92015\n",
      "Data columns (total 4 columns):\n",
      "Unnamed: 0      92016 non-null int64\n",
      "Rating          92016 non-null object\n",
      "RatingSource    92016 non-null object\n",
      "imdbID          92016 non-null object\n",
      "dtypes: int64(1), object(3)\n",
      "memory usage: 2.8+ MB\n"
     ]
    }
   ],
   "source": [
    "print('Total Numbers of rows.', len(df_ratings), '\\n')\n",
    "print('Information about the dataset.', '\\n')\n",
    "df_ratings.info()"
   ]
  },
  {
   "cell_type": "code",
   "execution_count": 10,
   "metadata": {},
   "outputs": [
    {
     "name": "stdout",
     "output_type": "stream",
     "text": [
      "Total Sources. 6 \n",
      "\n",
      "Rating Sources are. \n"
     ]
    },
    {
     "data": {
      "text/plain": [
       "[' Internet Movie Database',\n",
       " ' Rotten Tomatoes',\n",
       " ' Metacritic',\n",
       " 'Internet Movie Database',\n",
       " 'Rotten Tomatoes',\n",
       " 'Metacritic']"
      ]
     },
     "execution_count": 10,
     "metadata": {},
     "output_type": "execute_result"
    }
   ],
   "source": [
    "# Total Number of Rating Sources.\n",
    "print('Total Sources.', len(df_ratings.RatingSource.unique().tolist()), '\\n')\n",
    "print('Rating Sources are. ')\n",
    "df_ratings.RatingSource.unique().tolist()"
   ]
  },
  {
   "cell_type": "code",
   "execution_count": 11,
   "metadata": {},
   "outputs": [
    {
     "data": {
      "text/plain": [
       "{' Internet Movie Database': 67720,\n",
       " ' Rotten Tomatoes': 5758,\n",
       " 'Internet Movie Database': 5704,\n",
       " 'Rotten Tomatoes': 5256,\n",
       " 'Metacritic': 4492,\n",
       " ' Metacritic': 3086}"
      ]
     },
     "execution_count": 11,
     "metadata": {},
     "output_type": "execute_result"
    }
   ],
   "source": [
    "# Frequency of iterations from each sources.\n",
    "rating_Sources_counts = dict( sorted(dict(Counter(df_ratings.RatingSource.tolist())).items(), key=operator.itemgetter(1),reverse=True))\n",
    "rating_Sources_counts"
   ]
  },
  {
   "cell_type": "code",
   "execution_count": 12,
   "metadata": {},
   "outputs": [
    {
     "name": "stdout",
     "output_type": "stream",
     "text": [
      "\n",
      " --------- Source  Internet Movie Database--------------- \n",
      "\n",
      "   Unnamed: 0   Rating              RatingSource     imdbID\n",
      "0           0   6.9/10   Internet Movie Database  tt1006835\n",
      "1           1   2.4/10   Internet Movie Database  tt2554714\n",
      "\n",
      " --------- Source  Rotten Tomatoes--------------- \n",
      "\n",
      "    Unnamed: 0 Rating      RatingSource     imdbID\n",
      "5            5    15%   Rotten Tomatoes  tt0206367\n",
      "14          14    13%   Rotten Tomatoes  tt0098347\n",
      "\n",
      " --------- Source  Metacritic--------------- \n",
      "\n",
      "    Unnamed: 0   Rating RatingSource     imdbID\n",
      "6            6   27/100   Metacritic  tt0206367\n",
      "35          35   45/100   Metacritic  tt2140619\n",
      "\n",
      " --------- Source Internet Movie Database--------------- \n",
      "\n",
      "       Unnamed: 0  Rating             RatingSource     imdbID\n",
      "76564           0  8.5/10  Internet Movie Database  tt0172495\n",
      "76567           3  7.8/10  Internet Movie Database  tt0162222\n",
      "\n",
      " --------- Source Rotten Tomatoes--------------- \n",
      "\n",
      "       Unnamed: 0 Rating     RatingSource     imdbID\n",
      "76565           1    76%  Rotten Tomatoes  tt0172495\n",
      "76568           4    90%  Rotten Tomatoes  tt0162222\n",
      "\n",
      " --------- Source Metacritic--------------- \n",
      "\n",
      "       Unnamed: 0  Rating RatingSource     imdbID\n",
      "76566           2  67/100   Metacritic  tt0172495\n",
      "76569           5  73/100   Metacritic  tt0162222\n"
     ]
    }
   ],
   "source": [
    "# printing 5 rows of each rating sources.\n",
    "\n",
    "rating_sources = df_ratings.RatingSource.unique().tolist()\n",
    "for source in rating_sources:\n",
    "    print('\\n --------- Source {source}--------------- \\n'.format(source=source))\n",
    "    print(df_ratings[df_ratings.RatingSource == source][:2])\n"
   ]
  },
  {
   "cell_type": "code",
   "execution_count": null,
   "metadata": {},
   "outputs": [],
   "source": []
  },
  {
   "cell_type": "markdown",
   "metadata": {},
   "source": [
    "## iii) Insights about Genres Dataset."
   ]
  },
  {
   "cell_type": "code",
   "execution_count": 13,
   "metadata": {},
   "outputs": [
    {
     "data": {
      "text/html": [
       "<div>\n",
       "<style scoped>\n",
       "    .dataframe tbody tr th:only-of-type {\n",
       "        vertical-align: middle;\n",
       "    }\n",
       "\n",
       "    .dataframe tbody tr th {\n",
       "        vertical-align: top;\n",
       "    }\n",
       "\n",
       "    .dataframe thead th {\n",
       "        text-align: right;\n",
       "    }\n",
       "</style>\n",
       "<table border=\"1\" class=\"dataframe\">\n",
       "  <thead>\n",
       "    <tr style=\"text-align: right;\">\n",
       "      <th></th>\n",
       "      <th>Unnamed: 0</th>\n",
       "      <th>Genre</th>\n",
       "      <th>imdbID</th>\n",
       "    </tr>\n",
       "  </thead>\n",
       "  <tbody>\n",
       "    <tr>\n",
       "      <th>0</th>\n",
       "      <td>0</td>\n",
       "      <td>Short</td>\n",
       "      <td>tt2268369</td>\n",
       "    </tr>\n",
       "    <tr>\n",
       "      <th>1</th>\n",
       "      <td>1</td>\n",
       "      <td>Drama</td>\n",
       "      <td>tt2268369</td>\n",
       "    </tr>\n",
       "    <tr>\n",
       "      <th>2</th>\n",
       "      <td>2</td>\n",
       "      <td>Short</td>\n",
       "      <td>tt1560760</td>\n",
       "    </tr>\n",
       "    <tr>\n",
       "      <th>3</th>\n",
       "      <td>3</td>\n",
       "      <td>Drama</td>\n",
       "      <td>tt1560760</td>\n",
       "    </tr>\n",
       "    <tr>\n",
       "      <th>4</th>\n",
       "      <td>4</td>\n",
       "      <td>Drama</td>\n",
       "      <td>tt0016750</td>\n",
       "    </tr>\n",
       "  </tbody>\n",
       "</table>\n",
       "</div>"
      ],
      "text/plain": [
       "   Unnamed: 0   Genre     imdbID\n",
       "0           0   Short  tt2268369\n",
       "1           1   Drama  tt2268369\n",
       "2           2   Short  tt1560760\n",
       "3           3   Drama  tt1560760\n",
       "4           4   Drama  tt0016750"
      ]
     },
     "execution_count": 13,
     "metadata": {},
     "output_type": "execute_result"
    }
   ],
   "source": [
    "# first 5 rows from the genres dataset to see the features of this dataset.\n",
    "df_genres.head()"
   ]
  },
  {
   "cell_type": "code",
   "execution_count": 14,
   "metadata": {},
   "outputs": [
    {
     "name": "stdout",
     "output_type": "stream",
     "text": [
      "Total Numbers of rows. 308565 \n",
      "\n",
      "Information about the dataset. \n",
      "\n",
      "<class 'pandas.core.frame.DataFrame'>\n",
      "RangeIndex: 308565 entries, 0 to 308564\n",
      "Data columns (total 3 columns):\n",
      "Unnamed: 0    308565 non-null int64\n",
      "Genre         308565 non-null object\n",
      "imdbID        308565 non-null object\n",
      "dtypes: int64(1), object(2)\n",
      "memory usage: 7.1+ MB\n"
     ]
    }
   ],
   "source": [
    "print('Total Numbers of rows.', len(df_genres), '\\n')\n",
    "print('Information about the dataset.', '\\n')\n",
    "df_genres.info()"
   ]
  },
  {
   "cell_type": "code",
   "execution_count": 15,
   "metadata": {},
   "outputs": [
    {
     "data": {
      "text/plain": [
       "count     308565\n",
       "unique        56\n",
       "top        Short\n",
       "freq       56867\n",
       "Name: Genre, dtype: object"
      ]
     },
     "execution_count": 15,
     "metadata": {},
     "output_type": "execute_result"
    }
   ],
   "source": [
    "# Summary about the Genre column.\n",
    "df_genres.Genre.describe()"
   ]
  },
  {
   "cell_type": "code",
   "execution_count": null,
   "metadata": {},
   "outputs": [],
   "source": []
  },
  {
   "cell_type": "markdown",
   "metadata": {},
   "source": [
    "## iv) Insights about Writers Dataset."
   ]
  },
  {
   "cell_type": "code",
   "execution_count": null,
   "metadata": {},
   "outputs": [],
   "source": []
  },
  {
   "cell_type": "code",
   "execution_count": 16,
   "metadata": {},
   "outputs": [
    {
     "data": {
      "text/html": [
       "<div>\n",
       "<style scoped>\n",
       "    .dataframe tbody tr th:only-of-type {\n",
       "        vertical-align: middle;\n",
       "    }\n",
       "\n",
       "    .dataframe tbody tr th {\n",
       "        vertical-align: top;\n",
       "    }\n",
       "\n",
       "    .dataframe thead th {\n",
       "        text-align: right;\n",
       "    }\n",
       "</style>\n",
       "<table border=\"1\" class=\"dataframe\">\n",
       "  <thead>\n",
       "    <tr style=\"text-align: right;\">\n",
       "      <th></th>\n",
       "      <th>Unnamed: 0</th>\n",
       "      <th>Person</th>\n",
       "      <th>Responsibility</th>\n",
       "      <th>imdbID</th>\n",
       "    </tr>\n",
       "  </thead>\n",
       "  <tbody>\n",
       "    <tr>\n",
       "      <th>0</th>\n",
       "      <td>0</td>\n",
       "      <td>Ernest Vajda</td>\n",
       "      <td>story</td>\n",
       "      <td>tt0016750</td>\n",
       "    </tr>\n",
       "    <tr>\n",
       "      <th>1</th>\n",
       "      <td>1</td>\n",
       "      <td>Ben F. Wilson</td>\n",
       "      <td>scenario</td>\n",
       "      <td>tt0328410</td>\n",
       "    </tr>\n",
       "    <tr>\n",
       "      <th>2</th>\n",
       "      <td>2</td>\n",
       "      <td>Sam-yuk Yoon</td>\n",
       "      <td>screenplay</td>\n",
       "      <td>tt0366512</td>\n",
       "    </tr>\n",
       "    <tr>\n",
       "      <th>3</th>\n",
       "      <td>3</td>\n",
       "      <td>Judy Rothman Rofé</td>\n",
       "      <td>screenplay</td>\n",
       "      <td>tt0206367</td>\n",
       "    </tr>\n",
       "    <tr>\n",
       "      <th>4</th>\n",
       "      <td>4</td>\n",
       "      <td>E.B. White</td>\n",
       "      <td>book</td>\n",
       "      <td>tt0206367</td>\n",
       "    </tr>\n",
       "  </tbody>\n",
       "</table>\n",
       "</div>"
      ],
      "text/plain": [
       "   Unnamed: 0             Person Responsibility     imdbID\n",
       "0           0       Ernest Vajda          story  tt0016750\n",
       "1           1      Ben F. Wilson       scenario  tt0328410\n",
       "2           2       Sam-yuk Yoon     screenplay  tt0366512\n",
       "3           3  Judy Rothman Rofé     screenplay  tt0206367\n",
       "4           4         E.B. White           book  tt0206367"
      ]
     },
     "execution_count": 16,
     "metadata": {},
     "output_type": "execute_result"
    }
   ],
   "source": [
    "# first 5 rows from the writers dataset to see the features of this dataset.\n",
    "df_writers.head()"
   ]
  },
  {
   "cell_type": "code",
   "execution_count": 17,
   "metadata": {},
   "outputs": [
    {
     "name": "stdout",
     "output_type": "stream",
     "text": [
      "Total Numbers of rows. 66164 \n",
      "\n",
      "Information about the dataset. \n",
      "\n",
      "<class 'pandas.core.frame.DataFrame'>\n",
      "RangeIndex: 66164 entries, 0 to 66163\n",
      "Data columns (total 4 columns):\n",
      "Unnamed: 0        66164 non-null int64\n",
      "Person            66164 non-null object\n",
      "Responsibility    66164 non-null object\n",
      "imdbID            66164 non-null object\n",
      "dtypes: int64(1), object(3)\n",
      "memory usage: 2.0+ MB\n"
     ]
    }
   ],
   "source": [
    "print('Total Numbers of rows.', len(df_writers), '\\n')\n",
    "print('Information about the dataset.', '\\n')\n",
    "df_writers.info()"
   ]
  },
  {
   "cell_type": "code",
   "execution_count": 18,
   "metadata": {},
   "outputs": [],
   "source": [
    "# Writer with his/her number of responsibilties in this dataset.\n",
    "writer_With_responsibilties = dict( sorted(dict(Counter(df_writers.Person.tolist())).items(), key=operator.itemgetter(1),reverse=True))"
   ]
  },
  {
   "cell_type": "code",
   "execution_count": 19,
   "metadata": {},
   "outputs": [
    {
     "name": "stdout",
     "output_type": "stream",
     "text": [
      "The writer William Shakespeare have 114 responsibilties\n",
      "The writer Bud Fisher have 64 responsibilties\n",
      "The writer H.M. Walker have 58 responsibilties\n",
      "The writer Stephen King have 52 responsibilties\n",
      "The writer Charles Dickens have 50 responsibilties\n",
      "The writer George H. Plympton have 43 responsibilties\n"
     ]
    }
   ],
   "source": [
    "# First 5 writers with their number of responsibilties.\n",
    "for i, (writer, responsibilties) in enumerate(writer_With_responsibilties.items()):\n",
    "    if i > 5:\n",
    "        break\n",
    "    print('The writer {writer} have {responsibilties} responsibilties'.format(writer=writer, responsibilties=responsibilties))"
   ]
  },
  {
   "cell_type": "code",
   "execution_count": 20,
   "metadata": {},
   "outputs": [
    {
     "name": "stdout",
     "output_type": "stream",
     "text": [
      "Total Responsibilties. 2424 \n",
      "\n",
      "First 10 Responsibilties are. \n"
     ]
    },
    {
     "data": {
      "text/plain": [
       "['story',\n",
       " 'scenario',\n",
       " 'screenplay',\n",
       " 'book',\n",
       " 'original screenplay',\n",
       " 'based on the stories by',\n",
       " 'original story',\n",
       " 'novel',\n",
       " 'screenwriter',\n",
       " 'story \"A Modern Cinderella\"']"
      ]
     },
     "execution_count": 20,
     "metadata": {},
     "output_type": "execute_result"
    }
   ],
   "source": [
    "# Types of Responsibilties in the dataset.\n",
    "print('Total Responsibilties.', len(df_writers.Responsibility.unique().tolist()), '\\n')\n",
    "print('First 10 Responsibilties are. ')\n",
    "df_writers.Responsibility.unique().tolist()[:10]"
   ]
  },
  {
   "cell_type": "code",
   "execution_count": null,
   "metadata": {},
   "outputs": [],
   "source": []
  },
  {
   "cell_type": "markdown",
   "metadata": {},
   "source": [
    "## v) Insights about the Movies."
   ]
  },
  {
   "cell_type": "code",
   "execution_count": 21,
   "metadata": {},
   "outputs": [
    {
     "data": {
      "text/html": [
       "<div>\n",
       "<style scoped>\n",
       "    .dataframe tbody tr th:only-of-type {\n",
       "        vertical-align: middle;\n",
       "    }\n",
       "\n",
       "    .dataframe tbody tr th {\n",
       "        vertical-align: top;\n",
       "    }\n",
       "\n",
       "    .dataframe thead th {\n",
       "        text-align: right;\n",
       "    }\n",
       "</style>\n",
       "<table border=\"1\" class=\"dataframe\">\n",
       "  <thead>\n",
       "    <tr style=\"text-align: right;\">\n",
       "      <th></th>\n",
       "      <th>Awards</th>\n",
       "      <th>Country</th>\n",
       "      <th>DVD</th>\n",
       "      <th>Director</th>\n",
       "      <th>Language</th>\n",
       "      <th>Plot</th>\n",
       "      <th>Poster</th>\n",
       "      <th>Production</th>\n",
       "      <th>Rated</th>\n",
       "      <th>Released</th>\n",
       "      <th>Runtime</th>\n",
       "      <th>Title</th>\n",
       "      <th>Type</th>\n",
       "      <th>Website</th>\n",
       "      <th>Year</th>\n",
       "      <th>imdbID</th>\n",
       "      <th>imdbRating</th>\n",
       "      <th>imdbVotes</th>\n",
       "    </tr>\n",
       "  </thead>\n",
       "  <tbody>\n",
       "    <tr>\n",
       "      <th>0</th>\n",
       "      <td>NaN</td>\n",
       "      <td>USA</td>\n",
       "      <td>NaN</td>\n",
       "      <td>Rose Cummings</td>\n",
       "      <td>English</td>\n",
       "      <td>Rachel constantly hears her baby cry from the ...</td>\n",
       "      <td>NaN</td>\n",
       "      <td>NaN</td>\n",
       "      <td>NaN</td>\n",
       "      <td>26 Apr 2012</td>\n",
       "      <td>20 min</td>\n",
       "      <td>Baby's Breath</td>\n",
       "      <td>movie</td>\n",
       "      <td>NaN</td>\n",
       "      <td>2012</td>\n",
       "      <td>tt2268369</td>\n",
       "      <td>NaN</td>\n",
       "      <td>NaN</td>\n",
       "    </tr>\n",
       "    <tr>\n",
       "      <th>1</th>\n",
       "      <td>NaN</td>\n",
       "      <td>USA</td>\n",
       "      <td>NaN</td>\n",
       "      <td>James Byrne</td>\n",
       "      <td>NaN</td>\n",
       "      <td>The struggle against unfortunate circumstances...</td>\n",
       "      <td>NaN</td>\n",
       "      <td>NaN</td>\n",
       "      <td>NaN</td>\n",
       "      <td>NaN</td>\n",
       "      <td>9 min</td>\n",
       "      <td>Winter Trees</td>\n",
       "      <td>movie</td>\n",
       "      <td>NaN</td>\n",
       "      <td>2008</td>\n",
       "      <td>tt1560760</td>\n",
       "      <td>NaN</td>\n",
       "      <td>NaN</td>\n",
       "    </tr>\n",
       "    <tr>\n",
       "      <th>2</th>\n",
       "      <td>NaN</td>\n",
       "      <td>USA</td>\n",
       "      <td>NaN</td>\n",
       "      <td>Dimitri Buchowetzki</td>\n",
       "      <td>NaN</td>\n",
       "      <td>NaN</td>\n",
       "      <td>NaN</td>\n",
       "      <td>NaN</td>\n",
       "      <td>NaN</td>\n",
       "      <td>27 Mar 1926</td>\n",
       "      <td>50 min</td>\n",
       "      <td>The Crown of Lies</td>\n",
       "      <td>movie</td>\n",
       "      <td>NaN</td>\n",
       "      <td>1926</td>\n",
       "      <td>tt0016750</td>\n",
       "      <td>NaN</td>\n",
       "      <td>NaN</td>\n",
       "    </tr>\n",
       "    <tr>\n",
       "      <th>3</th>\n",
       "      <td>NaN</td>\n",
       "      <td>USA</td>\n",
       "      <td>NaN</td>\n",
       "      <td>Julia Hechler</td>\n",
       "      <td>English</td>\n",
       "      <td>A Gift introduces Samuel Green, Washington Sta...</td>\n",
       "      <td>NaN</td>\n",
       "      <td>NaN</td>\n",
       "      <td>NaN</td>\n",
       "      <td>27 May 2013</td>\n",
       "      <td>2 min</td>\n",
       "      <td>A Gift</td>\n",
       "      <td>movie</td>\n",
       "      <td>NaN</td>\n",
       "      <td>2013</td>\n",
       "      <td>tt3405286</td>\n",
       "      <td>NaN</td>\n",
       "      <td>NaN</td>\n",
       "    </tr>\n",
       "    <tr>\n",
       "      <th>4</th>\n",
       "      <td>NaN</td>\n",
       "      <td>Sri Lanka</td>\n",
       "      <td>NaN</td>\n",
       "      <td>Udara Siriruwan</td>\n",
       "      <td>Sinhalese</td>\n",
       "      <td>NaN</td>\n",
       "      <td>NaN</td>\n",
       "      <td>NaN</td>\n",
       "      <td>NaN</td>\n",
       "      <td>20 Mar 2014</td>\n",
       "      <td>23 min</td>\n",
       "      <td>Journey</td>\n",
       "      <td>movie</td>\n",
       "      <td>NaN</td>\n",
       "      <td>2014</td>\n",
       "      <td>tt3816698</td>\n",
       "      <td>NaN</td>\n",
       "      <td>NaN</td>\n",
       "    </tr>\n",
       "  </tbody>\n",
       "</table>\n",
       "</div>"
      ],
      "text/plain": [
       "  Awards    Country  DVD             Director   Language  \\\n",
       "0    NaN        USA  NaN        Rose Cummings    English   \n",
       "1    NaN        USA  NaN          James Byrne        NaN   \n",
       "2    NaN        USA  NaN  Dimitri Buchowetzki        NaN   \n",
       "3    NaN        USA  NaN        Julia Hechler    English   \n",
       "4    NaN  Sri Lanka  NaN      Udara Siriruwan  Sinhalese   \n",
       "\n",
       "                                                Plot Poster Production Rated  \\\n",
       "0  Rachel constantly hears her baby cry from the ...    NaN        NaN   NaN   \n",
       "1  The struggle against unfortunate circumstances...    NaN        NaN   NaN   \n",
       "2                                                NaN    NaN        NaN   NaN   \n",
       "3  A Gift introduces Samuel Green, Washington Sta...    NaN        NaN   NaN   \n",
       "4                                                NaN    NaN        NaN   NaN   \n",
       "\n",
       "      Released Runtime              Title   Type Website  Year     imdbID  \\\n",
       "0  26 Apr 2012  20 min      Baby's Breath  movie     NaN  2012  tt2268369   \n",
       "1          NaN   9 min       Winter Trees  movie     NaN  2008  tt1560760   \n",
       "2  27 Mar 1926  50 min  The Crown of Lies  movie     NaN  1926  tt0016750   \n",
       "3  27 May 2013   2 min             A Gift  movie     NaN  2013  tt3405286   \n",
       "4  20 Mar 2014  23 min            Journey  movie     NaN  2014  tt3816698   \n",
       "\n",
       "   imdbRating imdbVotes  \n",
       "0         NaN       NaN  \n",
       "1         NaN       NaN  \n",
       "2         NaN       NaN  \n",
       "3         NaN       NaN  \n",
       "4         NaN       NaN  "
      ]
     },
     "execution_count": 21,
     "metadata": {},
     "output_type": "execute_result"
    }
   ],
   "source": [
    "\n",
    "# first 5 rows from the Movies dataset to see the features of this dataset.\n",
    "df_movies.head()"
   ]
  },
  {
   "cell_type": "code",
   "execution_count": 22,
   "metadata": {},
   "outputs": [
    {
     "name": "stdout",
     "output_type": "stream",
     "text": [
      "Total Numbers of rows. 178687 \n",
      "\n",
      "Information about the dataset. \n",
      "\n",
      "<class 'pandas.core.frame.DataFrame'>\n",
      "RangeIndex: 178687 entries, 0 to 178686\n",
      "Data columns (total 18 columns):\n",
      "Awards        20340 non-null object\n",
      "Country       165998 non-null object\n",
      "DVD           15949 non-null object\n",
      "Director      151353 non-null object\n",
      "Language      153196 non-null object\n",
      "Plot          97476 non-null object\n",
      "Poster        48414 non-null object\n",
      "Production    16446 non-null object\n",
      "Rated         23906 non-null object\n",
      "Released      116974 non-null object\n",
      "Runtime       119497 non-null object\n",
      "Title         178686 non-null object\n",
      "Type          178686 non-null object\n",
      "Website       6747 non-null object\n",
      "Year          178686 non-null object\n",
      "imdbID        178686 non-null object\n",
      "imdbRating    62073 non-null float64\n",
      "imdbVotes     62029 non-null object\n",
      "dtypes: float64(1), object(17)\n",
      "memory usage: 24.5+ MB\n"
     ]
    }
   ],
   "source": [
    "print('Total Numbers of rows.', len(df_movies), '\\n')\n",
    "print('Information about the dataset.', '\\n')\n",
    "df_movies.info()"
   ]
  },
  {
   "cell_type": "code",
   "execution_count": 23,
   "metadata": {},
   "outputs": [
    {
     "data": {
      "text/plain": [
       "(178687, 18)"
      ]
     },
     "execution_count": 23,
     "metadata": {},
     "output_type": "execute_result"
    }
   ],
   "source": [
    "# shape of the dataset, which represents the set of number of rows and columns\n",
    "df_movies.shape"
   ]
  },
  {
   "cell_type": "code",
   "execution_count": 25,
   "metadata": {},
   "outputs": [
    {
     "data": {
      "text/plain": [
       "Awards         11.38\n",
       "Country        92.90\n",
       "DVD             8.93\n",
       "Director       84.70\n",
       "Language       85.73\n",
       "Plot           54.55\n",
       "Poster         27.09\n",
       "Production      9.20\n",
       "Rated          13.38\n",
       "Released       65.46\n",
       "Runtime        66.88\n",
       "Title         100.00\n",
       "Type          100.00\n",
       "Website         3.78\n",
       "Year          100.00\n",
       "imdbID        100.00\n",
       "imdbRating     34.74\n",
       "imdbVotes      34.71\n",
       "dtype: float64"
      ]
     },
     "execution_count": 25,
     "metadata": {},
     "output_type": "execute_result"
    }
   ],
   "source": [
    "# Checking the percentage of the non-null values in the dataset.\n",
    "# it will give us the column name and the percentage of non-null values in that particular column.\n",
    "\n",
    "# to perform analytics we remove those features from the dataset, which have less then 70% of non-null values. \n",
    "\n",
    "df_movies.notna().mean().round(4)*100"
   ]
  },
  {
   "cell_type": "code",
   "execution_count": 26,
   "metadata": {},
   "outputs": [],
   "source": [
    "# filtering those features which have less than 70% non-null values.\n",
    "df_movies = df_movies[['Country', 'Director', 'Language', 'Plot', 'Released', 'Runtime',\n",
    "                       'Title', 'Type', 'Year', 'imdbRating', 'imdbVotes', 'imdbID']]"
   ]
  },
  {
   "cell_type": "code",
   "execution_count": 27,
   "metadata": {},
   "outputs": [
    {
     "data": {
      "text/plain": [
       "(178687, 12)"
      ]
     },
     "execution_count": 27,
     "metadata": {},
     "output_type": "execute_result"
    }
   ],
   "source": [
    "# Checking the shape of movie dataset, after removing the features having a big number of null values.\n",
    "df_movies.shape"
   ]
  },
  {
   "cell_type": "code",
   "execution_count": 28,
   "metadata": {},
   "outputs": [
    {
     "data": {
      "text/plain": [
       "count     165998\n",
       "unique      3799\n",
       "top          USA\n",
       "freq       93426\n",
       "Name: Country, dtype: object"
      ]
     },
     "execution_count": 28,
     "metadata": {},
     "output_type": "execute_result"
    }
   ],
   "source": [
    "# Providing the Summary of Country Features.\n",
    "df_movies.Country.describe()"
   ]
  },
  {
   "cell_type": "code",
   "execution_count": 29,
   "metadata": {},
   "outputs": [
    {
     "data": {
      "text/plain": [
       "count         151353\n",
       "unique         92410\n",
       "top       Jim Powers\n",
       "freq             151\n",
       "Name: Director, dtype: object"
      ]
     },
     "execution_count": 29,
     "metadata": {},
     "output_type": "execute_result"
    }
   ],
   "source": [
    "# Providing the Summary of Director Features.\n",
    "df_movies.Director.describe()"
   ]
  },
  {
   "cell_type": "code",
   "execution_count": 30,
   "metadata": {},
   "outputs": [
    {
     "data": {
      "text/plain": [
       "count      153196\n",
       "unique       2519\n",
       "top       English\n",
       "freq       117809\n",
       "Name: Language, dtype: object"
      ]
     },
     "execution_count": 30,
     "metadata": {},
     "output_type": "execute_result"
    }
   ],
   "source": [
    "# Providing the Summary of Language Features.\n",
    "df_movies.Language.describe()"
   ]
  },
  {
   "cell_type": "code",
   "execution_count": 31,
   "metadata": {},
   "outputs": [
    {
     "data": {
      "text/plain": [
       "count          116974\n",
       "unique          25146\n",
       "top       01 May 2015\n",
       "freq              173\n",
       "Name: Released, dtype: object"
      ]
     },
     "execution_count": 31,
     "metadata": {},
     "output_type": "execute_result"
    }
   ],
   "source": [
    "# Providing the Summary of Released Features.\n",
    "df_movies.Released.describe()"
   ]
  },
  {
   "cell_type": "code",
   "execution_count": 32,
   "metadata": {},
   "outputs": [
    {
     "data": {
      "text/plain": [
       "count     178686\n",
       "unique       265\n",
       "top         2015\n",
       "freq       10699\n",
       "Name: Year, dtype: int64"
      ]
     },
     "execution_count": 32,
     "metadata": {},
     "output_type": "execute_result"
    }
   ],
   "source": [
    "# Providing the Summary of Year Features.\n",
    "df_movies.Year.describe()"
   ]
  },
  {
   "cell_type": "code",
   "execution_count": 33,
   "metadata": {},
   "outputs": [
    {
     "data": {
      "text/plain": [
       "count    62073.000000\n",
       "mean         6.416236\n",
       "std          1.360472\n",
       "min          1.000000\n",
       "25%          5.600000\n",
       "50%          6.500000\n",
       "75%          7.300000\n",
       "max         10.000000\n",
       "Name: imdbRating, dtype: float64"
      ]
     },
     "execution_count": 33,
     "metadata": {},
     "output_type": "execute_result"
    }
   ],
   "source": [
    "# Providing the Summary of Rating Features.\n",
    "df_movies.imdbRating.describe()"
   ]
  },
  {
   "cell_type": "code",
   "execution_count": null,
   "metadata": {},
   "outputs": [],
   "source": []
  },
  {
   "cell_type": "markdown",
   "metadata": {},
   "source": [
    "# 2) Data Preprocessing"
   ]
  },
  {
   "cell_type": "code",
   "execution_count": null,
   "metadata": {},
   "outputs": [],
   "source": []
  },
  {
   "cell_type": "markdown",
   "metadata": {},
   "source": [
    "## i) Processing the Year Feature."
   ]
  },
  {
   "cell_type": "code",
   "execution_count": null,
   "metadata": {},
   "outputs": [],
   "source": []
  },
  {
   "cell_type": "code",
   "execution_count": 34,
   "metadata": {},
   "outputs": [
    {
     "name": "stderr",
     "output_type": "stream",
     "text": [
      "100%|██████████| 178686/178686 [00:00<00:00, 255287.35it/s]\n"
     ]
    }
   ],
   "source": [
    "# Formatting the Year Feature from the dataset.\n",
    "df_movies['Year'] = df_movies[df_movies.Year.notna()][:].Year.progress_apply(lambda year: int(year) if type(year) == int else int(year) if type(year) == float else int(year.split('–')[0]))"
   ]
  },
  {
   "cell_type": "code",
   "execution_count": 35,
   "metadata": {},
   "outputs": [],
   "source": [
    "# Changing the Data type of Year Feature\n",
    "df_movies = df_movies[df_movies.Year.notna()].astype({'Year': 'int32'})"
   ]
  },
  {
   "cell_type": "code",
   "execution_count": 36,
   "metadata": {},
   "outputs": [
    {
     "data": {
      "text/plain": [
       "Country        object\n",
       "Director       object\n",
       "Language       object\n",
       "Plot           object\n",
       "Released       object\n",
       "Runtime        object\n",
       "Title          object\n",
       "Type           object\n",
       "Year            int32\n",
       "imdbRating    float64\n",
       "imdbVotes      object\n",
       "imdbID         object\n",
       "dtype: object"
      ]
     },
     "execution_count": 36,
     "metadata": {},
     "output_type": "execute_result"
    }
   ],
   "source": [
    "# Printing all the data types of movies dataset.\n",
    "df_movies.dtypes"
   ]
  },
  {
   "cell_type": "code",
   "execution_count": null,
   "metadata": {},
   "outputs": [],
   "source": []
  },
  {
   "cell_type": "markdown",
   "metadata": {},
   "source": [
    "## ii) As we can see that there are so many movies, which have no rating at all, we can add more ratings by merging additional ratings from rating dateset using imdbID.\n",
    "\n",
    "### * but before merging, we have to use same scale for the each rating, because rating dataset don't have same rating process.\n"
   ]
  },
  {
   "cell_type": "code",
   "execution_count": 37,
   "metadata": {},
   "outputs": [
    {
     "name": "stdout",
     "output_type": "stream",
     "text": [
      "\n",
      " --------- Source  Internet Movie Database--------------- \n",
      "\n",
      "   Unnamed: 0   Rating              RatingSource     imdbID\n",
      "0           0   6.9/10   Internet Movie Database  tt1006835\n",
      "1           1   2.4/10   Internet Movie Database  tt2554714\n",
      "\n",
      " --------- Source  Rotten Tomatoes--------------- \n",
      "\n",
      "    Unnamed: 0 Rating      RatingSource     imdbID\n",
      "5            5    15%   Rotten Tomatoes  tt0206367\n",
      "14          14    13%   Rotten Tomatoes  tt0098347\n",
      "\n",
      " --------- Source  Metacritic--------------- \n",
      "\n",
      "    Unnamed: 0   Rating RatingSource     imdbID\n",
      "6            6   27/100   Metacritic  tt0206367\n",
      "35          35   45/100   Metacritic  tt2140619\n",
      "\n",
      " --------- Source Internet Movie Database--------------- \n",
      "\n",
      "       Unnamed: 0  Rating             RatingSource     imdbID\n",
      "76564           0  8.5/10  Internet Movie Database  tt0172495\n",
      "76567           3  7.8/10  Internet Movie Database  tt0162222\n",
      "\n",
      " --------- Source Rotten Tomatoes--------------- \n",
      "\n",
      "       Unnamed: 0 Rating     RatingSource     imdbID\n",
      "76565           1    76%  Rotten Tomatoes  tt0172495\n",
      "76568           4    90%  Rotten Tomatoes  tt0162222\n",
      "\n",
      " --------- Source Metacritic--------------- \n",
      "\n",
      "       Unnamed: 0  Rating RatingSource     imdbID\n",
      "76566           2  67/100   Metacritic  tt0172495\n",
      "76569           5  73/100   Metacritic  tt0162222\n"
     ]
    }
   ],
   "source": [
    "# printing 2 rows of each rating sources.\n",
    "\n",
    "rating_sources = df_ratings.RatingSource.unique().tolist()\n",
    "for source in rating_sources:\n",
    "    print('\\n --------- Source {source}--------------- \\n'.format(source=source))\n",
    "    print(df_ratings[df_ratings.RatingSource == source][:2])\n"
   ]
  },
  {
   "cell_type": "code",
   "execution_count": 38,
   "metadata": {},
   "outputs": [],
   "source": [
    "# This function will change the scale of ratings from different sources, into a one type of ratings.\n",
    "def change_scale(row):\n",
    "    try:\n",
    "        # get ratings and strip for spaces.\n",
    "        rating = row.Rating\n",
    "        rating = rating.strip()\n",
    "        # get sources\n",
    "        sources = row.RatingSource\n",
    "        # condition for those sources who uses percentage for rating.\n",
    "        if sources ==' Rotten Tomatoes' or sources == 'Rotten Tomatoes':\n",
    "            rating = float(rating.strip('%'))/10.0\n",
    "        # condition for those sources who uses scale of 100 for rating.\n",
    "        else:\n",
    "            rating = float(rating.split('/')[0])\n",
    "            if sources == ' Metacritic' or sources == 'Metacritic':\n",
    "                rating = rating/10.0\n",
    "        return rating\n",
    "    except:\n",
    "        # for debugging if any error occurs.\n",
    "        import ipdb; ipdb.set_trace()"
   ]
  },
  {
   "cell_type": "code",
   "execution_count": 39,
   "metadata": {},
   "outputs": [
    {
     "name": "stderr",
     "output_type": "stream",
     "text": [
      "100%|██████████| 92016/92016 [00:06<00:00, 13433.63it/s]\n"
     ]
    }
   ],
   "source": [
    "# creating a new column into the rating dataset, for new rating. \n",
    "df_ratings['New_Ratings'] = df_ratings[df_ratings.Rating.notna()].progress_apply(lambda row: change_scale(row), axis=1)"
   ]
  },
  {
   "cell_type": "code",
   "execution_count": 40,
   "metadata": {},
   "outputs": [
    {
     "name": "stdout",
     "output_type": "stream",
     "text": [
      "\n",
      " --------- Source  Internet Movie Database--------------- \n",
      "\n",
      "   Unnamed: 0   Rating              RatingSource     imdbID  New_Ratings\n",
      "0           0   6.9/10   Internet Movie Database  tt1006835          6.9\n",
      "1           1   2.4/10   Internet Movie Database  tt2554714          2.4\n",
      "\n",
      " --------- Source  Rotten Tomatoes--------------- \n",
      "\n",
      "    Unnamed: 0 Rating      RatingSource     imdbID  New_Ratings\n",
      "5            5    15%   Rotten Tomatoes  tt0206367          1.5\n",
      "14          14    13%   Rotten Tomatoes  tt0098347          1.3\n",
      "\n",
      " --------- Source  Metacritic--------------- \n",
      "\n",
      "    Unnamed: 0   Rating RatingSource     imdbID  New_Ratings\n",
      "6            6   27/100   Metacritic  tt0206367          2.7\n",
      "35          35   45/100   Metacritic  tt2140619          4.5\n",
      "\n",
      " --------- Source Internet Movie Database--------------- \n",
      "\n",
      "       Unnamed: 0  Rating             RatingSource     imdbID  New_Ratings\n",
      "76564           0  8.5/10  Internet Movie Database  tt0172495          8.5\n",
      "76567           3  7.8/10  Internet Movie Database  tt0162222          7.8\n",
      "\n",
      " --------- Source Rotten Tomatoes--------------- \n",
      "\n",
      "       Unnamed: 0 Rating     RatingSource     imdbID  New_Ratings\n",
      "76565           1    76%  Rotten Tomatoes  tt0172495          7.6\n",
      "76568           4    90%  Rotten Tomatoes  tt0162222          9.0\n",
      "\n",
      " --------- Source Metacritic--------------- \n",
      "\n",
      "       Unnamed: 0  Rating RatingSource     imdbID  New_Ratings\n",
      "76566           2  67/100   Metacritic  tt0172495          6.7\n",
      "76569           5  73/100   Metacritic  tt0162222          7.3\n"
     ]
    }
   ],
   "source": [
    "# printing 2 rows of each rating sources after rescaling.\n",
    "\n",
    "rating_sources = df_ratings.RatingSource.unique().tolist()\n",
    "for source in rating_sources:\n",
    "    print('\\n --------- Source {source}--------------- \\n'.format(source=source))\n",
    "    print(df_ratings[df_ratings.RatingSource == source][:2])\n"
   ]
  },
  {
   "cell_type": "code",
   "execution_count": 41,
   "metadata": {},
   "outputs": [],
   "source": [
    "# removing the old scaling and unnecessary column of unnamed: 0.\n",
    "df_ratings = df_ratings[['New_Ratings', 'RatingSource', 'imdbID']]"
   ]
  },
  {
   "cell_type": "code",
   "execution_count": 42,
   "metadata": {},
   "outputs": [
    {
     "data": {
      "text/html": [
       "<div>\n",
       "<style scoped>\n",
       "    .dataframe tbody tr th:only-of-type {\n",
       "        vertical-align: middle;\n",
       "    }\n",
       "\n",
       "    .dataframe tbody tr th {\n",
       "        vertical-align: top;\n",
       "    }\n",
       "\n",
       "    .dataframe thead th {\n",
       "        text-align: right;\n",
       "    }\n",
       "</style>\n",
       "<table border=\"1\" class=\"dataframe\">\n",
       "  <thead>\n",
       "    <tr style=\"text-align: right;\">\n",
       "      <th></th>\n",
       "      <th>New_Ratings</th>\n",
       "      <th>RatingSource</th>\n",
       "      <th>imdbID</th>\n",
       "    </tr>\n",
       "  </thead>\n",
       "  <tbody>\n",
       "    <tr>\n",
       "      <th>0</th>\n",
       "      <td>6.9</td>\n",
       "      <td>Internet Movie Database</td>\n",
       "      <td>tt1006835</td>\n",
       "    </tr>\n",
       "    <tr>\n",
       "      <th>1</th>\n",
       "      <td>2.4</td>\n",
       "      <td>Internet Movie Database</td>\n",
       "      <td>tt2554714</td>\n",
       "    </tr>\n",
       "  </tbody>\n",
       "</table>\n",
       "</div>"
      ],
      "text/plain": [
       "   New_Ratings              RatingSource     imdbID\n",
       "0          6.9   Internet Movie Database  tt1006835\n",
       "1          2.4   Internet Movie Database  tt2554714"
      ]
     },
     "execution_count": 42,
     "metadata": {},
     "output_type": "execute_result"
    }
   ],
   "source": [
    "# Printing the First 2\n",
    "df_ratings.head(2)"
   ]
  },
  {
   "cell_type": "code",
   "execution_count": 43,
   "metadata": {},
   "outputs": [
    {
     "data": {
      "text/plain": [
       "116613"
      ]
     },
     "execution_count": 43,
     "metadata": {},
     "output_type": "execute_result"
    }
   ],
   "source": [
    "# creating the dataset for ratings with null values.\n",
    "df_empty_rating_movies = df_movies[df_movies.imdbRating.isna()]\n",
    "# number of rows in the dataset which contains empty rating.\n",
    "len(df_empty_rating_movies)"
   ]
  },
  {
   "cell_type": "code",
   "execution_count": 46,
   "metadata": {},
   "outputs": [
    {
     "data": {
      "text/plain": [
       "(379, 14)"
      ]
     },
     "execution_count": 46,
     "metadata": {},
     "output_type": "execute_result"
    }
   ],
   "source": [
    "# merging the ratings dataset with empty_rating_movies on behalf of imdbID.\n",
    "df_merge_movie_ratings = pd.merge(df_empty_rating_movies, df_ratings, on='imdbID')\n",
    "#checking the shape of the dataset\n",
    "df_merge_movie_ratings.shape"
   ]
  },
  {
   "cell_type": "code",
   "execution_count": 47,
   "metadata": {},
   "outputs": [
    {
     "data": {
      "text/plain": [
       "Index(['Country', 'Director', 'Language', 'Plot', 'Released', 'Runtime',\n",
       "       'Title', 'Type', 'Year', 'imdbRating', 'imdbVotes', 'imdbID',\n",
       "       'New_Ratings', 'RatingSource'],\n",
       "      dtype='object')"
      ]
     },
     "execution_count": 47,
     "metadata": {},
     "output_type": "execute_result"
    }
   ],
   "source": [
    "df_merge_movie_ratings.columns"
   ]
  },
  {
   "cell_type": "code",
   "execution_count": 48,
   "metadata": {},
   "outputs": [],
   "source": [
    "# adding these new created \n",
    "def adding_ratings(row):\n",
    "    df_movies.loc[df_movies.imdbID == row.imdbID, 'imdbRating'] = row.New_Ratings"
   ]
  },
  {
   "cell_type": "code",
   "execution_count": 49,
   "metadata": {},
   "outputs": [
    {
     "name": "stderr",
     "output_type": "stream",
     "text": [
      "100%|██████████| 379/379 [00:06<00:00, 54.71it/s]\n"
     ]
    },
    {
     "data": {
      "text/plain": [
       "0      None\n",
       "1      None\n",
       "2      None\n",
       "3      None\n",
       "4      None\n",
       "5      None\n",
       "6      None\n",
       "7      None\n",
       "8      None\n",
       "9      None\n",
       "10     None\n",
       "11     None\n",
       "12     None\n",
       "13     None\n",
       "14     None\n",
       "15     None\n",
       "16     None\n",
       "17     None\n",
       "18     None\n",
       "19     None\n",
       "20     None\n",
       "21     None\n",
       "22     None\n",
       "23     None\n",
       "24     None\n",
       "25     None\n",
       "26     None\n",
       "27     None\n",
       "28     None\n",
       "29     None\n",
       "       ... \n",
       "349    None\n",
       "350    None\n",
       "351    None\n",
       "352    None\n",
       "353    None\n",
       "354    None\n",
       "355    None\n",
       "356    None\n",
       "357    None\n",
       "358    None\n",
       "359    None\n",
       "360    None\n",
       "361    None\n",
       "362    None\n",
       "363    None\n",
       "364    None\n",
       "365    None\n",
       "366    None\n",
       "367    None\n",
       "368    None\n",
       "369    None\n",
       "370    None\n",
       "371    None\n",
       "372    None\n",
       "373    None\n",
       "374    None\n",
       "375    None\n",
       "376    None\n",
       "377    None\n",
       "378    None\n",
       "Length: 379, dtype: object"
      ]
     },
     "execution_count": 49,
     "metadata": {},
     "output_type": "execute_result"
    }
   ],
   "source": [
    "df_merge_movie_ratings.progress_apply(lambda row: adding_ratings(row), axis=1)"
   ]
  },
  {
   "cell_type": "code",
   "execution_count": 50,
   "metadata": {},
   "outputs": [
    {
     "data": {
      "text/plain": [
       "62394"
      ]
     },
     "execution_count": 50,
     "metadata": {},
     "output_type": "execute_result"
    }
   ],
   "source": [
    "len(df_movies[df_movies.imdbRating.notna()])"
   ]
  },
  {
   "cell_type": "code",
   "execution_count": 51,
   "metadata": {},
   "outputs": [
    {
     "data": {
      "text/html": [
       "<div>\n",
       "<style scoped>\n",
       "    .dataframe tbody tr th:only-of-type {\n",
       "        vertical-align: middle;\n",
       "    }\n",
       "\n",
       "    .dataframe tbody tr th {\n",
       "        vertical-align: top;\n",
       "    }\n",
       "\n",
       "    .dataframe thead th {\n",
       "        text-align: right;\n",
       "    }\n",
       "</style>\n",
       "<table border=\"1\" class=\"dataframe\">\n",
       "  <thead>\n",
       "    <tr style=\"text-align: right;\">\n",
       "      <th></th>\n",
       "      <th>Country</th>\n",
       "      <th>Director</th>\n",
       "      <th>Language</th>\n",
       "      <th>Plot</th>\n",
       "      <th>Released</th>\n",
       "      <th>Runtime</th>\n",
       "      <th>Title</th>\n",
       "      <th>Type</th>\n",
       "      <th>Year</th>\n",
       "      <th>imdbRating</th>\n",
       "      <th>imdbVotes</th>\n",
       "      <th>imdbID</th>\n",
       "    </tr>\n",
       "  </thead>\n",
       "  <tbody>\n",
       "    <tr>\n",
       "      <th>152511</th>\n",
       "      <td>Lebanon</td>\n",
       "      <td>Serge Majdalany</td>\n",
       "      <td>Arabic</td>\n",
       "      <td>As the shelling intensifies, Nadim (an aspirin...</td>\n",
       "      <td>25 Aug 2017</td>\n",
       "      <td>NaN</td>\n",
       "      <td>Take My Hand</td>\n",
       "      <td>movie</td>\n",
       "      <td>2017</td>\n",
       "      <td>10.0</td>\n",
       "      <td>21</td>\n",
       "      <td>tt7441020</td>\n",
       "    </tr>\n",
       "    <tr>\n",
       "      <th>115392</th>\n",
       "      <td>India</td>\n",
       "      <td>Alexander Popov</td>\n",
       "      <td>Russian</td>\n",
       "      <td>The small love story removed in GOA in which S...</td>\n",
       "      <td>16 Feb 2014</td>\n",
       "      <td>6 min</td>\n",
       "      <td>The Incredible Indian Adventures of Stepan Men...</td>\n",
       "      <td>movie</td>\n",
       "      <td>2014</td>\n",
       "      <td>10.0</td>\n",
       "      <td>5</td>\n",
       "      <td>tt5440552</td>\n",
       "    </tr>\n",
       "    <tr>\n",
       "      <th>158932</th>\n",
       "      <td>Puerto Rico</td>\n",
       "      <td>NaN</td>\n",
       "      <td>Spanish</td>\n",
       "      <td>A married man gets a terrific scare during a d...</td>\n",
       "      <td>02 Oct 2013</td>\n",
       "      <td>2 min</td>\n",
       "      <td>Sweet Dreams</td>\n",
       "      <td>movie</td>\n",
       "      <td>2013</td>\n",
       "      <td>10.0</td>\n",
       "      <td>NaN</td>\n",
       "      <td>tt3585494</td>\n",
       "    </tr>\n",
       "    <tr>\n",
       "      <th>114594</th>\n",
       "      <td>USA</td>\n",
       "      <td>Roberto E. Moscoso, Nelly Barreto</td>\n",
       "      <td>English</td>\n",
       "      <td>A chilling tale of a family encountering evil ...</td>\n",
       "      <td>NaN</td>\n",
       "      <td>10 min</td>\n",
       "      <td>Sweet Dreams</td>\n",
       "      <td>movie</td>\n",
       "      <td>2013</td>\n",
       "      <td>10.0</td>\n",
       "      <td>NaN</td>\n",
       "      <td>tt3907176</td>\n",
       "    </tr>\n",
       "    <tr>\n",
       "      <th>2432</th>\n",
       "      <td>Israel</td>\n",
       "      <td>Tal Yaari</td>\n",
       "      <td>Hebrew</td>\n",
       "      <td>NaN</td>\n",
       "      <td>10 Aug 2008</td>\n",
       "      <td>NaN</td>\n",
       "      <td>Sad Story</td>\n",
       "      <td>movie</td>\n",
       "      <td>2008</td>\n",
       "      <td>10.0</td>\n",
       "      <td>9</td>\n",
       "      <td>tt5169454</td>\n",
       "    </tr>\n",
       "    <tr>\n",
       "      <th>37962</th>\n",
       "      <td>Australia</td>\n",
       "      <td>John Hopper</td>\n",
       "      <td>English</td>\n",
       "      <td>NaN</td>\n",
       "      <td>NaN</td>\n",
       "      <td>NaN</td>\n",
       "      <td>The Waiting Room</td>\n",
       "      <td>movie</td>\n",
       "      <td>2016</td>\n",
       "      <td>10.0</td>\n",
       "      <td>NaN</td>\n",
       "      <td>tt4023872</td>\n",
       "    </tr>\n",
       "    <tr>\n",
       "      <th>52080</th>\n",
       "      <td>USA</td>\n",
       "      <td>Luis S. Alvarez</td>\n",
       "      <td>English</td>\n",
       "      <td>NaN</td>\n",
       "      <td>09 Aug 2017</td>\n",
       "      <td>NaN</td>\n",
       "      <td>Keep Quiet</td>\n",
       "      <td>movie</td>\n",
       "      <td>2017</td>\n",
       "      <td>10.0</td>\n",
       "      <td>NaN</td>\n",
       "      <td>tt7136718</td>\n",
       "    </tr>\n",
       "    <tr>\n",
       "      <th>70699</th>\n",
       "      <td>USA</td>\n",
       "      <td>Ezra Bookstein</td>\n",
       "      <td>English</td>\n",
       "      <td>In 1957, Milton Rogovin was declared The Top R...</td>\n",
       "      <td>26 Jan 2007</td>\n",
       "      <td>NaN</td>\n",
       "      <td>The Rich Have Their Own Photographers</td>\n",
       "      <td>movie</td>\n",
       "      <td>2007</td>\n",
       "      <td>10.0</td>\n",
       "      <td>5</td>\n",
       "      <td>tt0954970</td>\n",
       "    </tr>\n",
       "    <tr>\n",
       "      <th>85033</th>\n",
       "      <td>UK</td>\n",
       "      <td>Lawrence Crawford</td>\n",
       "      <td>English</td>\n",
       "      <td>Four young girls from Ayrshire in Scotland dea...</td>\n",
       "      <td>NaN</td>\n",
       "      <td>17 min</td>\n",
       "      <td>The Kids Aren't Alright</td>\n",
       "      <td>movie</td>\n",
       "      <td>2016</td>\n",
       "      <td>10.0</td>\n",
       "      <td>5</td>\n",
       "      <td>tt5806692</td>\n",
       "    </tr>\n",
       "    <tr>\n",
       "      <th>18510</th>\n",
       "      <td>USA</td>\n",
       "      <td>Parker Brennon</td>\n",
       "      <td>English</td>\n",
       "      <td>Elise hears an unknown voice in her apartment ...</td>\n",
       "      <td>12 Mar 2017</td>\n",
       "      <td>4 min</td>\n",
       "      <td>Elise's Nightmare</td>\n",
       "      <td>movie</td>\n",
       "      <td>2017</td>\n",
       "      <td>10.0</td>\n",
       "      <td>9</td>\n",
       "      <td>tt6583392</td>\n",
       "    </tr>\n",
       "  </tbody>\n",
       "</table>\n",
       "</div>"
      ],
      "text/plain": [
       "            Country                           Director Language  \\\n",
       "152511      Lebanon                    Serge Majdalany   Arabic   \n",
       "115392        India                    Alexander Popov  Russian   \n",
       "158932  Puerto Rico                                NaN  Spanish   \n",
       "114594          USA  Roberto E. Moscoso, Nelly Barreto  English   \n",
       "2432         Israel                          Tal Yaari   Hebrew   \n",
       "37962     Australia                        John Hopper  English   \n",
       "52080           USA                    Luis S. Alvarez  English   \n",
       "70699           USA                     Ezra Bookstein  English   \n",
       "85033            UK                  Lawrence Crawford  English   \n",
       "18510           USA                     Parker Brennon  English   \n",
       "\n",
       "                                                     Plot     Released  \\\n",
       "152511  As the shelling intensifies, Nadim (an aspirin...  25 Aug 2017   \n",
       "115392  The small love story removed in GOA in which S...  16 Feb 2014   \n",
       "158932  A married man gets a terrific scare during a d...  02 Oct 2013   \n",
       "114594  A chilling tale of a family encountering evil ...          NaN   \n",
       "2432                                                  NaN  10 Aug 2008   \n",
       "37962                                                 NaN          NaN   \n",
       "52080                                                 NaN  09 Aug 2017   \n",
       "70699   In 1957, Milton Rogovin was declared The Top R...  26 Jan 2007   \n",
       "85033   Four young girls from Ayrshire in Scotland dea...          NaN   \n",
       "18510   Elise hears an unknown voice in her apartment ...  12 Mar 2017   \n",
       "\n",
       "       Runtime                                              Title   Type  \\\n",
       "152511     NaN                                       Take My Hand  movie   \n",
       "115392   6 min  The Incredible Indian Adventures of Stepan Men...  movie   \n",
       "158932   2 min                                       Sweet Dreams  movie   \n",
       "114594  10 min                                       Sweet Dreams  movie   \n",
       "2432       NaN                                          Sad Story  movie   \n",
       "37962      NaN                                   The Waiting Room  movie   \n",
       "52080      NaN                                         Keep Quiet  movie   \n",
       "70699      NaN              The Rich Have Their Own Photographers  movie   \n",
       "85033   17 min                            The Kids Aren't Alright  movie   \n",
       "18510    4 min                                  Elise's Nightmare  movie   \n",
       "\n",
       "        Year  imdbRating imdbVotes     imdbID  \n",
       "152511  2017        10.0        21  tt7441020  \n",
       "115392  2014        10.0         5  tt5440552  \n",
       "158932  2013        10.0       NaN  tt3585494  \n",
       "114594  2013        10.0       NaN  tt3907176  \n",
       "2432    2008        10.0         9  tt5169454  \n",
       "37962   2016        10.0       NaN  tt4023872  \n",
       "52080   2017        10.0       NaN  tt7136718  \n",
       "70699   2007        10.0         5  tt0954970  \n",
       "85033   2016        10.0         5  tt5806692  \n",
       "18510   2017        10.0         9  tt6583392  "
      ]
     },
     "execution_count": 51,
     "metadata": {},
     "output_type": "execute_result"
    }
   ],
   "source": [
    "# sorting the movies dataset in descending order accoding to the ratings and display only the top 10.\n",
    "df_movies.sort_values(by=['imdbRating'], ascending=False)[:10]"
   ]
  },
  {
   "cell_type": "code",
   "execution_count": null,
   "metadata": {},
   "outputs": [],
   "source": []
  },
  {
   "cell_type": "markdown",
   "metadata": {},
   "source": [
    "## iii) Merging the Actors dataset into the movies dataset using imdbID"
   ]
  },
  {
   "cell_type": "code",
   "execution_count": 81,
   "metadata": {},
   "outputs": [
    {
     "data": {
      "text/plain": [
       "Index(['Unnamed: 0', 'Actors', 'imdbID'], dtype='object')"
      ]
     },
     "execution_count": 81,
     "metadata": {},
     "output_type": "execute_result"
    }
   ],
   "source": [
    "# reading the column names of the actors dataset.\n",
    "df_actors.columns"
   ]
  },
  {
   "cell_type": "code",
   "execution_count": 82,
   "metadata": {},
   "outputs": [
    {
     "name": "stderr",
     "output_type": "stream",
     "text": [
      "100%|██████████| 143869/143869 [00:00<00:00, 274317.43it/s]\n"
     ]
    }
   ],
   "source": [
    "# removing the extra spaces from the begining and starting of the actors name.\n",
    "df_actors['Actors'] = df_actors[df_actors.Actors.notna()].Actors.progress_apply(lambda actor: actor.strip())"
   ]
  },
  {
   "cell_type": "code",
   "execution_count": 83,
   "metadata": {},
   "outputs": [
    {
     "name": "stdout",
     "output_type": "stream",
     "text": [
      "143869\n"
     ]
    }
   ],
   "source": [
    "# After deleting the duplicates actors name.\n",
    "print(len(df_actors))"
   ]
  },
  {
   "cell_type": "code",
   "execution_count": 84,
   "metadata": {},
   "outputs": [],
   "source": [
    "# merging the movies data set and actors datatset to create the df_movie_analysis dataset.\n",
    "df_movie_analysis = pd.merge(df_movies, df_actors, on='imdbID', left_index=False)"
   ]
  },
  {
   "cell_type": "code",
   "execution_count": 85,
   "metadata": {},
   "outputs": [
    {
     "data": {
      "text/plain": [
       "Country        93.39\n",
       "Director       88.77\n",
       "Language       89.12\n",
       "Plot           56.30\n",
       "Released       68.65\n",
       "Runtime        70.64\n",
       "Title         100.00\n",
       "Type          100.00\n",
       "Year          100.00\n",
       "imdbRating     40.22\n",
       "imdbVotes      40.05\n",
       "imdbID        100.00\n",
       "Unnamed: 0    100.00\n",
       "Actors        100.00\n",
       "dtype: float64"
      ]
     },
     "execution_count": 85,
     "metadata": {},
     "output_type": "execute_result"
    }
   ],
   "source": [
    "# print the percentage of non-empty dataset in the analysis dataset.\n",
    "df_movie_analysis.notna().mean().round(4)*100"
   ]
  },
  {
   "cell_type": "markdown",
   "metadata": {},
   "source": [
    "## iv) merging the Genres dataset into the movies dataset using imdbID."
   ]
  },
  {
   "cell_type": "code",
   "execution_count": null,
   "metadata": {},
   "outputs": [],
   "source": []
  },
  {
   "cell_type": "code",
   "execution_count": 86,
   "metadata": {},
   "outputs": [
    {
     "data": {
      "text/plain": [
       "Index(['Unnamed: 0', 'Genre', 'imdbID'], dtype='object')"
      ]
     },
     "execution_count": 86,
     "metadata": {},
     "output_type": "execute_result"
    }
   ],
   "source": [
    "df_genres.columns"
   ]
  },
  {
   "cell_type": "code",
   "execution_count": 88,
   "metadata": {},
   "outputs": [
    {
     "name": "stderr",
     "output_type": "stream",
     "text": [
      "100%|██████████| 308565/308565 [00:00<00:00, 362370.43it/s]\n"
     ]
    }
   ],
   "source": [
    "# removing the extra spaces from the genres.\n",
    "df_genres['Genre'] = df_genres[df_genres.Genre.notna()].Genre.progress_apply(lambda genre: genre.strip())"
   ]
  },
  {
   "cell_type": "code",
   "execution_count": 89,
   "metadata": {},
   "outputs": [],
   "source": [
    "# adding genres into the movies Data set by merging genre data on the behalf of the imdbID\n",
    "df_movie_analysis = pd.merge(df_movie_analysis, df_genres, on='imdbID', left_index=False)"
   ]
  },
  {
   "cell_type": "code",
   "execution_count": 90,
   "metadata": {},
   "outputs": [
    {
     "data": {
      "text/plain": [
       "Index(['Country', 'Director', 'Language', 'Plot', 'Released', 'Runtime',\n",
       "       'Title', 'Type', 'Year', 'imdbRating', 'imdbVotes', 'imdbID',\n",
       "       'Unnamed: 0_x', 'Actors', 'Unnamed: 0_y', 'Genre'],\n",
       "      dtype='object')"
      ]
     },
     "execution_count": 90,
     "metadata": {},
     "output_type": "execute_result"
    }
   ],
   "source": [
    "df_movie_analysis.columns"
   ]
  },
  {
   "cell_type": "code",
   "execution_count": 91,
   "metadata": {},
   "outputs": [],
   "source": [
    "df_movie_analysis = df_movie_analysis[['Country', 'Director', 'Language', 'Plot', 'Released', 'Runtime',\n",
    "       'Title', 'Type', 'Year', 'imdbRating', 'imdbVotes', 'imdbID', 'Actors', 'Genre']]"
   ]
  },
  {
   "cell_type": "code",
   "execution_count": 92,
   "metadata": {},
   "outputs": [
    {
     "data": {
      "text/plain": [
       "250141"
      ]
     },
     "execution_count": 92,
     "metadata": {},
     "output_type": "execute_result"
    }
   ],
   "source": [
    "len(df_movie_analysis)"
   ]
  },
  {
   "cell_type": "code",
   "execution_count": 93,
   "metadata": {},
   "outputs": [
    {
     "data": {
      "text/html": [
       "<div>\n",
       "<style scoped>\n",
       "    .dataframe tbody tr th:only-of-type {\n",
       "        vertical-align: middle;\n",
       "    }\n",
       "\n",
       "    .dataframe tbody tr th {\n",
       "        vertical-align: top;\n",
       "    }\n",
       "\n",
       "    .dataframe thead th {\n",
       "        text-align: right;\n",
       "    }\n",
       "</style>\n",
       "<table border=\"1\" class=\"dataframe\">\n",
       "  <thead>\n",
       "    <tr style=\"text-align: right;\">\n",
       "      <th></th>\n",
       "      <th>Country</th>\n",
       "      <th>Director</th>\n",
       "      <th>Language</th>\n",
       "      <th>Plot</th>\n",
       "      <th>Released</th>\n",
       "      <th>Runtime</th>\n",
       "      <th>Title</th>\n",
       "      <th>Type</th>\n",
       "      <th>Year</th>\n",
       "      <th>imdbRating</th>\n",
       "      <th>imdbVotes</th>\n",
       "      <th>imdbID</th>\n",
       "      <th>Actors</th>\n",
       "      <th>Genre</th>\n",
       "    </tr>\n",
       "  </thead>\n",
       "  <tbody>\n",
       "    <tr>\n",
       "      <th>0</th>\n",
       "      <td>USA</td>\n",
       "      <td>Rose Cummings</td>\n",
       "      <td>English</td>\n",
       "      <td>Rachel constantly hears her baby cry from the ...</td>\n",
       "      <td>26 Apr 2012</td>\n",
       "      <td>20 min</td>\n",
       "      <td>Baby's Breath</td>\n",
       "      <td>movie</td>\n",
       "      <td>2012</td>\n",
       "      <td>NaN</td>\n",
       "      <td>NaN</td>\n",
       "      <td>tt2268369</td>\n",
       "      <td>Cass Barbera</td>\n",
       "      <td>Short</td>\n",
       "    </tr>\n",
       "    <tr>\n",
       "      <th>1</th>\n",
       "      <td>USA</td>\n",
       "      <td>Rose Cummings</td>\n",
       "      <td>English</td>\n",
       "      <td>Rachel constantly hears her baby cry from the ...</td>\n",
       "      <td>26 Apr 2012</td>\n",
       "      <td>20 min</td>\n",
       "      <td>Baby's Breath</td>\n",
       "      <td>movie</td>\n",
       "      <td>2012</td>\n",
       "      <td>NaN</td>\n",
       "      <td>NaN</td>\n",
       "      <td>tt2268369</td>\n",
       "      <td>Cass Barbera</td>\n",
       "      <td>Drama</td>\n",
       "    </tr>\n",
       "    <tr>\n",
       "      <th>2</th>\n",
       "      <td>USA</td>\n",
       "      <td>Dimitri Buchowetzki</td>\n",
       "      <td>NaN</td>\n",
       "      <td>NaN</td>\n",
       "      <td>27 Mar 1926</td>\n",
       "      <td>50 min</td>\n",
       "      <td>The Crown of Lies</td>\n",
       "      <td>movie</td>\n",
       "      <td>1926</td>\n",
       "      <td>NaN</td>\n",
       "      <td>NaN</td>\n",
       "      <td>tt0016750</td>\n",
       "      <td>Charles A. Post</td>\n",
       "      <td>Drama</td>\n",
       "    </tr>\n",
       "    <tr>\n",
       "      <th>3</th>\n",
       "      <td>USA</td>\n",
       "      <td>Dimitri Buchowetzki</td>\n",
       "      <td>NaN</td>\n",
       "      <td>NaN</td>\n",
       "      <td>27 Mar 1926</td>\n",
       "      <td>50 min</td>\n",
       "      <td>The Crown of Lies</td>\n",
       "      <td>movie</td>\n",
       "      <td>1926</td>\n",
       "      <td>NaN</td>\n",
       "      <td>NaN</td>\n",
       "      <td>tt0016750</td>\n",
       "      <td>Charles A. Post</td>\n",
       "      <td>Romance</td>\n",
       "    </tr>\n",
       "    <tr>\n",
       "      <th>4</th>\n",
       "      <td>USA</td>\n",
       "      <td>Julia Hechler</td>\n",
       "      <td>English</td>\n",
       "      <td>A Gift introduces Samuel Green, Washington Sta...</td>\n",
       "      <td>27 May 2013</td>\n",
       "      <td>2 min</td>\n",
       "      <td>A Gift</td>\n",
       "      <td>movie</td>\n",
       "      <td>2013</td>\n",
       "      <td>NaN</td>\n",
       "      <td>NaN</td>\n",
       "      <td>tt3405286</td>\n",
       "      <td>Samuel Green</td>\n",
       "      <td>Documentary</td>\n",
       "    </tr>\n",
       "  </tbody>\n",
       "</table>\n",
       "</div>"
      ],
      "text/plain": [
       "  Country             Director Language  \\\n",
       "0     USA        Rose Cummings  English   \n",
       "1     USA        Rose Cummings  English   \n",
       "2     USA  Dimitri Buchowetzki      NaN   \n",
       "3     USA  Dimitri Buchowetzki      NaN   \n",
       "4     USA        Julia Hechler  English   \n",
       "\n",
       "                                                Plot     Released Runtime  \\\n",
       "0  Rachel constantly hears her baby cry from the ...  26 Apr 2012  20 min   \n",
       "1  Rachel constantly hears her baby cry from the ...  26 Apr 2012  20 min   \n",
       "2                                                NaN  27 Mar 1926  50 min   \n",
       "3                                                NaN  27 Mar 1926  50 min   \n",
       "4  A Gift introduces Samuel Green, Washington Sta...  27 May 2013   2 min   \n",
       "\n",
       "               Title   Type  Year  imdbRating imdbVotes     imdbID  \\\n",
       "0      Baby's Breath  movie  2012         NaN       NaN  tt2268369   \n",
       "1      Baby's Breath  movie  2012         NaN       NaN  tt2268369   \n",
       "2  The Crown of Lies  movie  1926         NaN       NaN  tt0016750   \n",
       "3  The Crown of Lies  movie  1926         NaN       NaN  tt0016750   \n",
       "4             A Gift  movie  2013         NaN       NaN  tt3405286   \n",
       "\n",
       "            Actors        Genre  \n",
       "0     Cass Barbera        Short  \n",
       "1     Cass Barbera        Drama  \n",
       "2  Charles A. Post        Drama  \n",
       "3  Charles A. Post      Romance  \n",
       "4     Samuel Green  Documentary  "
      ]
     },
     "execution_count": 93,
     "metadata": {},
     "output_type": "execute_result"
    }
   ],
   "source": [
    "df_movie_analysis.head()"
   ]
  },
  {
   "cell_type": "code",
   "execution_count": 94,
   "metadata": {},
   "outputs": [
    {
     "data": {
      "text/plain": [
       "28"
      ]
     },
     "execution_count": 94,
     "metadata": {},
     "output_type": "execute_result"
    }
   ],
   "source": [
    "df_movie_analysis.Genre.nunique()"
   ]
  },
  {
   "cell_type": "code",
   "execution_count": 95,
   "metadata": {},
   "outputs": [
    {
     "data": {
      "text/plain": [
       "Country        93.86\n",
       "Director       91.34\n",
       "Language       89.87\n",
       "Plot           65.24\n",
       "Released       69.22\n",
       "Runtime        75.88\n",
       "Title         100.00\n",
       "Type          100.00\n",
       "Year          100.00\n",
       "imdbRating     41.88\n",
       "imdbVotes      41.67\n",
       "imdbID        100.00\n",
       "Actors        100.00\n",
       "Genre         100.00\n",
       "dtype: float64"
      ]
     },
     "execution_count": 95,
     "metadata": {},
     "output_type": "execute_result"
    }
   ],
   "source": [
    "# print the percentage of non-empty dataset in the analysis dataset.\n",
    "df_movie_analysis.notna().mean().round(4)*100"
   ]
  },
  {
   "cell_type": "markdown",
   "metadata": {},
   "source": [
    "## v) Merging the writers dataset into the movies dataset using imdbID "
   ]
  },
  {
   "cell_type": "code",
   "execution_count": 96,
   "metadata": {},
   "outputs": [
    {
     "data": {
      "text/html": [
       "<div>\n",
       "<style scoped>\n",
       "    .dataframe tbody tr th:only-of-type {\n",
       "        vertical-align: middle;\n",
       "    }\n",
       "\n",
       "    .dataframe tbody tr th {\n",
       "        vertical-align: top;\n",
       "    }\n",
       "\n",
       "    .dataframe thead th {\n",
       "        text-align: right;\n",
       "    }\n",
       "</style>\n",
       "<table border=\"1\" class=\"dataframe\">\n",
       "  <thead>\n",
       "    <tr style=\"text-align: right;\">\n",
       "      <th></th>\n",
       "      <th>Unnamed: 0</th>\n",
       "      <th>Person</th>\n",
       "      <th>Responsibility</th>\n",
       "      <th>imdbID</th>\n",
       "    </tr>\n",
       "  </thead>\n",
       "  <tbody>\n",
       "    <tr>\n",
       "      <th>0</th>\n",
       "      <td>0</td>\n",
       "      <td>Ernest Vajda</td>\n",
       "      <td>story</td>\n",
       "      <td>tt0016750</td>\n",
       "    </tr>\n",
       "    <tr>\n",
       "      <th>1</th>\n",
       "      <td>1</td>\n",
       "      <td>Ben F. Wilson</td>\n",
       "      <td>scenario</td>\n",
       "      <td>tt0328410</td>\n",
       "    </tr>\n",
       "  </tbody>\n",
       "</table>\n",
       "</div>"
      ],
      "text/plain": [
       "   Unnamed: 0         Person Responsibility     imdbID\n",
       "0           0   Ernest Vajda          story  tt0016750\n",
       "1           1  Ben F. Wilson       scenario  tt0328410"
      ]
     },
     "execution_count": 96,
     "metadata": {},
     "output_type": "execute_result"
    }
   ],
   "source": [
    "# Reading the first two rows of the dataset to show the features of this dataset.\n",
    "df_writers.head(2)"
   ]
  },
  {
   "cell_type": "code",
   "execution_count": 97,
   "metadata": {},
   "outputs": [
    {
     "name": "stderr",
     "output_type": "stream",
     "text": [
      "100%|██████████| 66164/66164 [00:00<00:00, 238273.52it/s]\n"
     ]
    }
   ],
   "source": [
    "# removing the extra spaces from the Person Feature of the writers dataset.\n",
    "df_writers['Person'] = df_writers[df_writers.Person.notna()].Person.progress_apply(lambda person: person.strip())"
   ]
  },
  {
   "cell_type": "code",
   "execution_count": 98,
   "metadata": {},
   "outputs": [
    {
     "data": {
      "text/plain": [
       "38532"
      ]
     },
     "execution_count": 98,
     "metadata": {},
     "output_type": "execute_result"
    }
   ],
   "source": [
    "# printing the unique writers in the writers dataset.\n",
    "df_writers.Person.nunique()"
   ]
  },
  {
   "cell_type": "code",
   "execution_count": 99,
   "metadata": {},
   "outputs": [],
   "source": [
    "# merging the movie_analysis dataset and the writers dataset to add new data into the movie analysis dataset.\n",
    "df_movie_analysis = pd.merge(df_movie_analysis, df_writers, on='imdbID', how='inner', left_index=False)"
   ]
  },
  {
   "cell_type": "code",
   "execution_count": 100,
   "metadata": {},
   "outputs": [],
   "source": [
    "# filtering the features to be used in the analysis dataset.\n",
    "df_movie_analysis = df_movie_analysis[['Country', 'Director', 'Language', 'Plot', 'Released', 'Runtime',\n",
    "       'Title', 'Type', 'Year', 'imdbRating', 'imdbVotes', 'imdbID', 'Actors', 'Genre', 'Person', 'Responsibility']]"
   ]
  },
  {
   "cell_type": "code",
   "execution_count": 102,
   "metadata": {},
   "outputs": [
    {
     "data": {
      "text/plain": [
       "Country        92.90\n",
       "Director       84.70\n",
       "Language       85.73\n",
       "Plot           54.55\n",
       "Released       65.46\n",
       "Runtime        66.88\n",
       "Title         100.00\n",
       "Type          100.00\n",
       "Year          100.00\n",
       "imdbRating     34.92\n",
       "imdbVotes      34.71\n",
       "imdbID        100.00\n",
       "dtype: float64"
      ]
     },
     "execution_count": 102,
     "metadata": {},
     "output_type": "execute_result"
    }
   ],
   "source": [
    "# printing the percentage completeness of each feature of movies dataset before processing.\n",
    "df_movies.notna().mean().round(4)*100"
   ]
  },
  {
   "cell_type": "code",
   "execution_count": 103,
   "metadata": {},
   "outputs": [
    {
     "data": {
      "text/plain": [
       "Country            99.72\n",
       "Director           98.32\n",
       "Language           96.45\n",
       "Plot               81.72\n",
       "Released           87.06\n",
       "Runtime            88.38\n",
       "Title             100.00\n",
       "Type              100.00\n",
       "Year              100.00\n",
       "imdbRating         74.60\n",
       "imdbVotes          74.54\n",
       "imdbID            100.00\n",
       "Actors            100.00\n",
       "Genre             100.00\n",
       "Person            100.00\n",
       "Responsibility    100.00\n",
       "dtype: float64"
      ]
     },
     "execution_count": 103,
     "metadata": {},
     "output_type": "execute_result"
    }
   ],
   "source": [
    "# printing the percentage completeness of each feature of movies dataset after processing.\n",
    "df_movie_analysis.notna().mean().round(4)*100"
   ]
  },
  {
   "cell_type": "code",
   "execution_count": 104,
   "metadata": {},
   "outputs": [
    {
     "data": {
      "text/plain": [
       "127347"
      ]
     },
     "execution_count": 104,
     "metadata": {},
     "output_type": "execute_result"
    }
   ],
   "source": [
    "# sample size of the movies_analysis dataset.\n",
    "len(df_movie_analysis)"
   ]
  },
  {
   "cell_type": "code",
   "execution_count": null,
   "metadata": {},
   "outputs": [],
   "source": []
  },
  {
   "cell_type": "markdown",
   "metadata": {},
   "source": [
    "# Analysis"
   ]
  },
  {
   "cell_type": "markdown",
   "metadata": {},
   "source": [
    "## In this analysis portion we can run multiple analysis. e.g.\n",
    "\n",
    "### 1. Analysis On Directors.\n",
    "\n",
    "#### i. Maximum number of movies directed by director(Top 10).\n",
    "\n",
    "#### ii. Maximum number of movies directed by a director in a genre(Top 10).\n",
    "\n",
    "#### iii. The year in which the director had directed the most movies.\n",
    "\n",
    "\n",
    "### 2. Analysis On Actors.\n",
    "\n",
    "#### i. Maximum number of movies performed by an Actor(Top 10).\n",
    "\n",
    "#### ii. Maximum number of movies performent by an Actor in a genre(Top 10).\n",
    "\n",
    "### 3. Analysis On Writer.\n",
    "\n",
    "#### i. Maximum number of movies written by writer(Top 10).\n",
    "\n",
    "#### ii. Maximum number of movies written by writer in a genre(Top 10).\n",
    "\n",
    "### 4. Aanalysis On Rating.\n",
    "\n",
    "#### i.  Most rating Genre.\n",
    "\n",
    "### 5. Genre.\n",
    "\n",
    "#### i.  Maximum Number of movies in Genre.\n",
    "#### ii.  Maximum Number of movies in an year in a certain Genre.\n",
    "#### iii.  Maximum Number of movies of a language in Genre."
   ]
  },
  {
   "cell_type": "code",
   "execution_count": null,
   "metadata": {},
   "outputs": [],
   "source": []
  },
  {
   "cell_type": "markdown",
   "metadata": {},
   "source": [
    "### 1) Analysis on Director"
   ]
  },
  {
   "cell_type": "code",
   "execution_count": 135,
   "metadata": {},
   "outputs": [
    {
     "name": "stdout",
     "output_type": "stream",
     "text": [
      "Jeff Tremaine had directed 198 movies.\n",
      "William Beaudine had directed 187 movies.\n",
      "Ron Clements, John Musker had directed 162 movies.\n",
      "Sam Newfield had directed 156 movies.\n",
      "Richard Thorpe had directed 156 movies.\n",
      "Steven Spielberg had directed 154 movies.\n",
      "Raoul Walsh had directed 150 movies.\n",
      "Gary Trousdale, Kirk Wise had directed 135 movies.\n",
      "Michael Curtiz had directed 134 movies.\n",
      "Lew Landers had directed 133 movies.\n",
      "Lloyd Bacon had directed 129 movies.\n"
     ]
    }
   ],
   "source": [
    "# Checking the Top 10 Director with most number of movies\n",
    "directors_with_movies_counts = dict( sorted(dict(Counter(df_movie_analysis.Director.tolist())).items(), key=operator.itemgetter(1),reverse=True))\n",
    "for i, (director, num_movies) in enumerate(directors_with_movies_counts.items()):\n",
    "    if i > 11: break\n",
    "    if i > 0: print('{director} had directed {movies} movies.'.format(director=director, movies=num_movies))"
   ]
  },
  {
   "cell_type": "code",
   "execution_count": 107,
   "metadata": {},
   "outputs": [
    {
     "data": {
      "text/html": [
       "<div>\n",
       "<style scoped>\n",
       "    .dataframe tbody tr th:only-of-type {\n",
       "        vertical-align: middle;\n",
       "    }\n",
       "\n",
       "    .dataframe tbody tr th {\n",
       "        vertical-align: top;\n",
       "    }\n",
       "\n",
       "    .dataframe thead th {\n",
       "        text-align: right;\n",
       "    }\n",
       "</style>\n",
       "<table border=\"1\" class=\"dataframe\">\n",
       "  <thead>\n",
       "    <tr style=\"text-align: right;\">\n",
       "      <th></th>\n",
       "      <th>Director</th>\n",
       "      <th>Genre</th>\n",
       "      <th>Number_of_Movies</th>\n",
       "    </tr>\n",
       "  </thead>\n",
       "  <tbody>\n",
       "    <tr>\n",
       "      <th>19492</th>\n",
       "      <td>Jeff Tremaine</td>\n",
       "      <td>Action</td>\n",
       "      <td>66</td>\n",
       "    </tr>\n",
       "    <tr>\n",
       "      <th>36387</th>\n",
       "      <td>Ron Clements, John Musker</td>\n",
       "      <td>Adventure</td>\n",
       "      <td>54</td>\n",
       "    </tr>\n",
       "    <tr>\n",
       "      <th>36388</th>\n",
       "      <td>Ron Clements, John Musker</td>\n",
       "      <td>Animation</td>\n",
       "      <td>54</td>\n",
       "    </tr>\n",
       "    <tr>\n",
       "      <th>13775</th>\n",
       "      <td>Gary Trousdale, Kirk Wise</td>\n",
       "      <td>Animation</td>\n",
       "      <td>45</td>\n",
       "    </tr>\n",
       "    <tr>\n",
       "      <th>43746</th>\n",
       "      <td>William Beaudine</td>\n",
       "      <td>Comedy</td>\n",
       "      <td>79</td>\n",
       "    </tr>\n",
       "    <tr>\n",
       "      <th>19493</th>\n",
       "      <td>Jeff Tremaine</td>\n",
       "      <td>Comedy</td>\n",
       "      <td>66</td>\n",
       "    </tr>\n",
       "    <tr>\n",
       "      <th>36389</th>\n",
       "      <td>Ron Clements, John Musker</td>\n",
       "      <td>Comedy</td>\n",
       "      <td>46</td>\n",
       "    </tr>\n",
       "    <tr>\n",
       "      <th>44093</th>\n",
       "      <td>William Watson</td>\n",
       "      <td>Comedy</td>\n",
       "      <td>44</td>\n",
       "    </tr>\n",
       "    <tr>\n",
       "      <th>19494</th>\n",
       "      <td>Jeff Tremaine</td>\n",
       "      <td>Documentary</td>\n",
       "      <td>66</td>\n",
       "    </tr>\n",
       "    <tr>\n",
       "      <th>641</th>\n",
       "      <td>Al Christie</td>\n",
       "      <td>Short</td>\n",
       "      <td>44</td>\n",
       "    </tr>\n",
       "  </tbody>\n",
       "</table>\n",
       "</div>"
      ],
      "text/plain": [
       "                        Director        Genre  Number_of_Movies\n",
       "19492              Jeff Tremaine       Action                66\n",
       "36387  Ron Clements, John Musker    Adventure                54\n",
       "36388  Ron Clements, John Musker    Animation                54\n",
       "13775  Gary Trousdale, Kirk Wise    Animation                45\n",
       "43746           William Beaudine       Comedy                79\n",
       "19493              Jeff Tremaine       Comedy                66\n",
       "36389  Ron Clements, John Musker       Comedy                46\n",
       "44093             William Watson       Comedy                44\n",
       "19494              Jeff Tremaine  Documentary                66\n",
       "641                  Al Christie        Short                44"
      ]
     },
     "execution_count": 107,
     "metadata": {},
     "output_type": "execute_result"
    }
   ],
   "source": [
    "# Checking the Directors who directed most number of movies in a specific genre sorted by Genre Name.\n",
    "\n",
    "movies_director_group = df_movie_analysis.groupby(['Director', 'Genre'])\n",
    "top_director = movies_director_group['imdbID'].count().reset_index()\n",
    "top_director.columns = ['Director', 'Genre', 'Number_of_Movies']\n",
    "top_director.sort_values(by=['Number_of_Movies'], ascending=False, inplace=True)\n",
    "top_director[:10].sort_values(by=['Genre'], ascending=True).head(10)"
   ]
  },
  {
   "cell_type": "code",
   "execution_count": 108,
   "metadata": {},
   "outputs": [
    {
     "name": "stdout",
     "output_type": "stream",
     "text": [
      "['Jeff Tremaine', 'William Beaudine', 'Ron Clements, John Musker', 'Sam Newfield', 'Richard Thorpe', 'Steven Spielberg', 'Raoul Walsh', 'Gary Trousdale, Kirk Wise', 'Michael Curtiz', 'Lew Landers', 'Lloyd Bacon']\n"
     ]
    }
   ],
   "source": [
    "# Creating a list of top 10 Directors.\n",
    "\n",
    "top_directors = []\n",
    "for i, (director, counts) in enumerate(directors_with_movies_counts.items()):\n",
    "    if i > 11: break\n",
    "    top_directors.append(director)\n",
    "top_directors = top_directors[1:]\n",
    "print(top_directors)"
   ]
  },
  {
   "cell_type": "code",
   "execution_count": 109,
   "metadata": {},
   "outputs": [
    {
     "name": "stderr",
     "output_type": "stream",
     "text": [
      "100%|██████████| 125211/125211 [00:00<00:00, 256335.00it/s]\n"
     ]
    }
   ],
   "source": [
    "# Creating a column for keep the status of top 10 directors.\n",
    "\n",
    "df_movie_analysis['Keep_Director'] = df_movie_analysis[df_movie_analysis.Director.notna()].Director.progress_apply(lambda director: True if director in top_directors else False)"
   ]
  },
  {
   "cell_type": "code",
   "execution_count": 110,
   "metadata": {},
   "outputs": [],
   "source": [
    "# create a new dataframe of top 10 directors.\n",
    "\n",
    "df_directors = df_movie_analysis[df_movie_analysis.Keep_Director == True]"
   ]
  },
  {
   "cell_type": "code",
   "execution_count": 111,
   "metadata": {},
   "outputs": [
    {
     "data": {
      "text/plain": [
       "1694"
      ]
     },
     "execution_count": 111,
     "metadata": {},
     "output_type": "execute_result"
    }
   ],
   "source": [
    "# length of the directors.\n",
    "len(df_directors)"
   ]
  },
  {
   "cell_type": "code",
   "execution_count": 112,
   "metadata": {},
   "outputs": [],
   "source": [
    "# Filtering the director from the year 1980.\n",
    "\n",
    "df_directors = df_directors[(df_directors.Year >= 1980)]"
   ]
  },
  {
   "cell_type": "code",
   "execution_count": 131,
   "metadata": {},
   "outputs": [],
   "source": [
    "# creating the group by filter from the feature of Year and Director.\n",
    "movies_director_with_year_group = df_directors.groupby(['Year', 'Director']) "
   ]
  },
  {
   "cell_type": "code",
   "execution_count": 132,
   "metadata": {},
   "outputs": [
    {
     "data": {
      "text/html": [
       "<div>\n",
       "<style scoped>\n",
       "    .dataframe tbody tr th:only-of-type {\n",
       "        vertical-align: middle;\n",
       "    }\n",
       "\n",
       "    .dataframe tbody tr th {\n",
       "        vertical-align: top;\n",
       "    }\n",
       "\n",
       "    .dataframe thead th {\n",
       "        text-align: right;\n",
       "    }\n",
       "</style>\n",
       "<table border=\"1\" class=\"dataframe\">\n",
       "  <thead>\n",
       "    <tr style=\"text-align: right;\">\n",
       "      <th></th>\n",
       "      <th>Year</th>\n",
       "      <th>Director</th>\n",
       "      <th>imdbRating</th>\n",
       "    </tr>\n",
       "  </thead>\n",
       "  <tbody>\n",
       "    <tr>\n",
       "      <th>0</th>\n",
       "      <td>1987</td>\n",
       "      <td>Steven Spielberg</td>\n",
       "      <td>7.80</td>\n",
       "    </tr>\n",
       "    <tr>\n",
       "      <th>1</th>\n",
       "      <td>1991</td>\n",
       "      <td>Gary Trousdale, Kirk Wise</td>\n",
       "      <td>8.00</td>\n",
       "    </tr>\n",
       "    <tr>\n",
       "      <th>2</th>\n",
       "      <td>1991</td>\n",
       "      <td>Steven Spielberg</td>\n",
       "      <td>6.70</td>\n",
       "    </tr>\n",
       "    <tr>\n",
       "      <th>3</th>\n",
       "      <td>1992</td>\n",
       "      <td>Ron Clements, John Musker</td>\n",
       "      <td>8.00</td>\n",
       "    </tr>\n",
       "    <tr>\n",
       "      <th>4</th>\n",
       "      <td>1993</td>\n",
       "      <td>Steven Spielberg</td>\n",
       "      <td>8.42</td>\n",
       "    </tr>\n",
       "    <tr>\n",
       "      <th>5</th>\n",
       "      <td>1996</td>\n",
       "      <td>Gary Trousdale, Kirk Wise</td>\n",
       "      <td>6.90</td>\n",
       "    </tr>\n",
       "    <tr>\n",
       "      <th>6</th>\n",
       "      <td>1997</td>\n",
       "      <td>Ron Clements, John Musker</td>\n",
       "      <td>7.30</td>\n",
       "    </tr>\n",
       "    <tr>\n",
       "      <th>7</th>\n",
       "      <td>1997</td>\n",
       "      <td>Steven Spielberg</td>\n",
       "      <td>6.50</td>\n",
       "    </tr>\n",
       "    <tr>\n",
       "      <th>8</th>\n",
       "      <td>2001</td>\n",
       "      <td>Gary Trousdale, Kirk Wise</td>\n",
       "      <td>6.80</td>\n",
       "    </tr>\n",
       "    <tr>\n",
       "      <th>9</th>\n",
       "      <td>2001</td>\n",
       "      <td>Steven Spielberg</td>\n",
       "      <td>7.10</td>\n",
       "    </tr>\n",
       "    <tr>\n",
       "      <th>10</th>\n",
       "      <td>2002</td>\n",
       "      <td>Jeff Tremaine</td>\n",
       "      <td>6.60</td>\n",
       "    </tr>\n",
       "    <tr>\n",
       "      <th>11</th>\n",
       "      <td>2002</td>\n",
       "      <td>Ron Clements, John Musker</td>\n",
       "      <td>7.10</td>\n",
       "    </tr>\n",
       "    <tr>\n",
       "      <th>12</th>\n",
       "      <td>2002</td>\n",
       "      <td>Steven Spielberg</td>\n",
       "      <td>7.90</td>\n",
       "    </tr>\n",
       "    <tr>\n",
       "      <th>13</th>\n",
       "      <td>2004</td>\n",
       "      <td>Steven Spielberg</td>\n",
       "      <td>7.30</td>\n",
       "    </tr>\n",
       "    <tr>\n",
       "      <th>14</th>\n",
       "      <td>2005</td>\n",
       "      <td>Steven Spielberg</td>\n",
       "      <td>7.05</td>\n",
       "    </tr>\n",
       "    <tr>\n",
       "      <th>15</th>\n",
       "      <td>2006</td>\n",
       "      <td>Jeff Tremaine</td>\n",
       "      <td>7.10</td>\n",
       "    </tr>\n",
       "    <tr>\n",
       "      <th>16</th>\n",
       "      <td>2008</td>\n",
       "      <td>Steven Spielberg</td>\n",
       "      <td>6.20</td>\n",
       "    </tr>\n",
       "    <tr>\n",
       "      <th>17</th>\n",
       "      <td>2009</td>\n",
       "      <td>Ron Clements, John Musker</td>\n",
       "      <td>7.10</td>\n",
       "    </tr>\n",
       "    <tr>\n",
       "      <th>18</th>\n",
       "      <td>2010</td>\n",
       "      <td>Jeff Tremaine</td>\n",
       "      <td>7.00</td>\n",
       "    </tr>\n",
       "    <tr>\n",
       "      <th>19</th>\n",
       "      <td>2011</td>\n",
       "      <td>Steven Spielberg</td>\n",
       "      <td>7.32</td>\n",
       "    </tr>\n",
       "    <tr>\n",
       "      <th>20</th>\n",
       "      <td>2012</td>\n",
       "      <td>Steven Spielberg</td>\n",
       "      <td>7.40</td>\n",
       "    </tr>\n",
       "    <tr>\n",
       "      <th>21</th>\n",
       "      <td>2016</td>\n",
       "      <td>Steven Spielberg</td>\n",
       "      <td>6.40</td>\n",
       "    </tr>\n",
       "    <tr>\n",
       "      <th>22</th>\n",
       "      <td>2017</td>\n",
       "      <td>Steven Spielberg</td>\n",
       "      <td>NaN</td>\n",
       "    </tr>\n",
       "  </tbody>\n",
       "</table>\n",
       "</div>"
      ],
      "text/plain": [
       "    Year                   Director  imdbRating\n",
       "0   1987           Steven Spielberg        7.80\n",
       "1   1991  Gary Trousdale, Kirk Wise        8.00\n",
       "2   1991           Steven Spielberg        6.70\n",
       "3   1992  Ron Clements, John Musker        8.00\n",
       "4   1993           Steven Spielberg        8.42\n",
       "5   1996  Gary Trousdale, Kirk Wise        6.90\n",
       "6   1997  Ron Clements, John Musker        7.30\n",
       "7   1997           Steven Spielberg        6.50\n",
       "8   2001  Gary Trousdale, Kirk Wise        6.80\n",
       "9   2001           Steven Spielberg        7.10\n",
       "10  2002              Jeff Tremaine        6.60\n",
       "11  2002  Ron Clements, John Musker        7.10\n",
       "12  2002           Steven Spielberg        7.90\n",
       "13  2004           Steven Spielberg        7.30\n",
       "14  2005           Steven Spielberg        7.05\n",
       "15  2006              Jeff Tremaine        7.10\n",
       "16  2008           Steven Spielberg        6.20\n",
       "17  2009  Ron Clements, John Musker        7.10\n",
       "18  2010              Jeff Tremaine        7.00\n",
       "19  2011           Steven Spielberg        7.32\n",
       "20  2012           Steven Spielberg        7.40\n",
       "21  2016           Steven Spielberg        6.40\n",
       "22  2017           Steven Spielberg         NaN"
      ]
     },
     "execution_count": 132,
     "metadata": {},
     "output_type": "execute_result"
    }
   ],
   "source": [
    "# showing the mean of the rating of the director of showing the average rating of the movie directed by a director in the year.\n",
    "\n",
    "movies_director_with_year_group['imdbRating'].mean().reset_index()"
   ]
  },
  {
   "cell_type": "code",
   "execution_count": 133,
   "metadata": {},
   "outputs": [
    {
     "data": {
      "text/html": [
       "<div>\n",
       "<style scoped>\n",
       "    .dataframe tbody tr th:only-of-type {\n",
       "        vertical-align: middle;\n",
       "    }\n",
       "\n",
       "    .dataframe tbody tr th {\n",
       "        vertical-align: top;\n",
       "    }\n",
       "\n",
       "    .dataframe thead th {\n",
       "        text-align: right;\n",
       "    }\n",
       "</style>\n",
       "<table border=\"1\" class=\"dataframe\">\n",
       "  <thead>\n",
       "    <tr style=\"text-align: right;\">\n",
       "      <th></th>\n",
       "      <th>Year</th>\n",
       "      <th>Director</th>\n",
       "      <th>imdbID</th>\n",
       "    </tr>\n",
       "  </thead>\n",
       "  <tbody>\n",
       "    <tr>\n",
       "      <th>0</th>\n",
       "      <td>1987</td>\n",
       "      <td>Steven Spielberg</td>\n",
       "      <td>6</td>\n",
       "    </tr>\n",
       "    <tr>\n",
       "      <th>1</th>\n",
       "      <td>1991</td>\n",
       "      <td>Gary Trousdale, Kirk Wise</td>\n",
       "      <td>33</td>\n",
       "    </tr>\n",
       "    <tr>\n",
       "      <th>2</th>\n",
       "      <td>1991</td>\n",
       "      <td>Steven Spielberg</td>\n",
       "      <td>18</td>\n",
       "    </tr>\n",
       "    <tr>\n",
       "      <th>3</th>\n",
       "      <td>1992</td>\n",
       "      <td>Ron Clements, John Musker</td>\n",
       "      <td>60</td>\n",
       "    </tr>\n",
       "    <tr>\n",
       "      <th>4</th>\n",
       "      <td>1993</td>\n",
       "      <td>Steven Spielberg</td>\n",
       "      <td>15</td>\n",
       "    </tr>\n",
       "    <tr>\n",
       "      <th>5</th>\n",
       "      <td>1996</td>\n",
       "      <td>Gary Trousdale, Kirk Wise</td>\n",
       "      <td>78</td>\n",
       "    </tr>\n",
       "    <tr>\n",
       "      <th>6</th>\n",
       "      <td>1997</td>\n",
       "      <td>Ron Clements, John Musker</td>\n",
       "      <td>54</td>\n",
       "    </tr>\n",
       "    <tr>\n",
       "      <th>7</th>\n",
       "      <td>1997</td>\n",
       "      <td>Steven Spielberg</td>\n",
       "      <td>6</td>\n",
       "    </tr>\n",
       "    <tr>\n",
       "      <th>8</th>\n",
       "      <td>2001</td>\n",
       "      <td>Gary Trousdale, Kirk Wise</td>\n",
       "      <td>24</td>\n",
       "    </tr>\n",
       "    <tr>\n",
       "      <th>9</th>\n",
       "      <td>2001</td>\n",
       "      <td>Steven Spielberg</td>\n",
       "      <td>9</td>\n",
       "    </tr>\n",
       "    <tr>\n",
       "      <th>10</th>\n",
       "      <td>2002</td>\n",
       "      <td>Jeff Tremaine</td>\n",
       "      <td>54</td>\n",
       "    </tr>\n",
       "    <tr>\n",
       "      <th>11</th>\n",
       "      <td>2002</td>\n",
       "      <td>Ron Clements, John Musker</td>\n",
       "      <td>24</td>\n",
       "    </tr>\n",
       "    <tr>\n",
       "      <th>12</th>\n",
       "      <td>2002</td>\n",
       "      <td>Steven Spielberg</td>\n",
       "      <td>18</td>\n",
       "    </tr>\n",
       "    <tr>\n",
       "      <th>13</th>\n",
       "      <td>2004</td>\n",
       "      <td>Steven Spielberg</td>\n",
       "      <td>12</td>\n",
       "    </tr>\n",
       "    <tr>\n",
       "      <th>14</th>\n",
       "      <td>2005</td>\n",
       "      <td>Steven Spielberg</td>\n",
       "      <td>18</td>\n",
       "    </tr>\n",
       "    <tr>\n",
       "      <th>15</th>\n",
       "      <td>2006</td>\n",
       "      <td>Jeff Tremaine</td>\n",
       "      <td>72</td>\n",
       "    </tr>\n",
       "    <tr>\n",
       "      <th>16</th>\n",
       "      <td>2008</td>\n",
       "      <td>Steven Spielberg</td>\n",
       "      <td>15</td>\n",
       "    </tr>\n",
       "    <tr>\n",
       "      <th>17</th>\n",
       "      <td>2009</td>\n",
       "      <td>Ron Clements, John Musker</td>\n",
       "      <td>24</td>\n",
       "    </tr>\n",
       "    <tr>\n",
       "      <th>18</th>\n",
       "      <td>2010</td>\n",
       "      <td>Jeff Tremaine</td>\n",
       "      <td>72</td>\n",
       "    </tr>\n",
       "    <tr>\n",
       "      <th>19</th>\n",
       "      <td>2011</td>\n",
       "      <td>Steven Spielberg</td>\n",
       "      <td>20</td>\n",
       "    </tr>\n",
       "    <tr>\n",
       "      <th>20</th>\n",
       "      <td>2012</td>\n",
       "      <td>Steven Spielberg</td>\n",
       "      <td>6</td>\n",
       "    </tr>\n",
       "    <tr>\n",
       "      <th>21</th>\n",
       "      <td>2016</td>\n",
       "      <td>Steven Spielberg</td>\n",
       "      <td>6</td>\n",
       "    </tr>\n",
       "    <tr>\n",
       "      <th>22</th>\n",
       "      <td>2017</td>\n",
       "      <td>Steven Spielberg</td>\n",
       "      <td>5</td>\n",
       "    </tr>\n",
       "  </tbody>\n",
       "</table>\n",
       "</div>"
      ],
      "text/plain": [
       "    Year                   Director  imdbID\n",
       "0   1987           Steven Spielberg       6\n",
       "1   1991  Gary Trousdale, Kirk Wise      33\n",
       "2   1991           Steven Spielberg      18\n",
       "3   1992  Ron Clements, John Musker      60\n",
       "4   1993           Steven Spielberg      15\n",
       "5   1996  Gary Trousdale, Kirk Wise      78\n",
       "6   1997  Ron Clements, John Musker      54\n",
       "7   1997           Steven Spielberg       6\n",
       "8   2001  Gary Trousdale, Kirk Wise      24\n",
       "9   2001           Steven Spielberg       9\n",
       "10  2002              Jeff Tremaine      54\n",
       "11  2002  Ron Clements, John Musker      24\n",
       "12  2002           Steven Spielberg      18\n",
       "13  2004           Steven Spielberg      12\n",
       "14  2005           Steven Spielberg      18\n",
       "15  2006              Jeff Tremaine      72\n",
       "16  2008           Steven Spielberg      15\n",
       "17  2009  Ron Clements, John Musker      24\n",
       "18  2010              Jeff Tremaine      72\n",
       "19  2011           Steven Spielberg      20\n",
       "20  2012           Steven Spielberg       6\n",
       "21  2016           Steven Spielberg       6\n",
       "22  2017           Steven Spielberg       5"
      ]
     },
     "execution_count": 133,
     "metadata": {},
     "output_type": "execute_result"
    }
   ],
   "source": [
    "# showing the number of movies directed by the Director in one specific year.\n",
    "movies_director_with_year_group['imdbID'].count().reset_index()#.sort_values(by=['imdbID'], ascending=False)"
   ]
  },
  {
   "cell_type": "code",
   "execution_count": null,
   "metadata": {},
   "outputs": [],
   "source": []
  },
  {
   "cell_type": "markdown",
   "metadata": {},
   "source": [
    "### 2) Movie Analysis on Genres."
   ]
  },
  {
   "cell_type": "code",
   "execution_count": null,
   "metadata": {},
   "outputs": [],
   "source": []
  },
  {
   "cell_type": "code",
   "execution_count": 144,
   "metadata": {
    "scrolled": true
   },
   "outputs": [
    {
     "data": {
      "text/html": [
       "<div>\n",
       "<style scoped>\n",
       "    .dataframe tbody tr th:only-of-type {\n",
       "        vertical-align: middle;\n",
       "    }\n",
       "\n",
       "    .dataframe tbody tr th {\n",
       "        vertical-align: top;\n",
       "    }\n",
       "\n",
       "    .dataframe thead th {\n",
       "        text-align: right;\n",
       "    }\n",
       "</style>\n",
       "<table border=\"1\" class=\"dataframe\">\n",
       "  <thead>\n",
       "    <tr style=\"text-align: right;\">\n",
       "      <th></th>\n",
       "      <th>Genre</th>\n",
       "      <th>Number_of_Movies</th>\n",
       "    </tr>\n",
       "  </thead>\n",
       "  <tbody>\n",
       "    <tr>\n",
       "      <th>8</th>\n",
       "      <td>Drama</td>\n",
       "      <td>27065</td>\n",
       "    </tr>\n",
       "    <tr>\n",
       "      <th>5</th>\n",
       "      <td>Comedy</td>\n",
       "      <td>19508</td>\n",
       "    </tr>\n",
       "    <tr>\n",
       "      <th>22</th>\n",
       "      <td>Short</td>\n",
       "      <td>12417</td>\n",
       "    </tr>\n",
       "    <tr>\n",
       "      <th>0</th>\n",
       "      <td>Action</td>\n",
       "      <td>8072</td>\n",
       "    </tr>\n",
       "    <tr>\n",
       "      <th>2</th>\n",
       "      <td>Adventure</td>\n",
       "      <td>7521</td>\n",
       "    </tr>\n",
       "  </tbody>\n",
       "</table>\n",
       "</div>"
      ],
      "text/plain": [
       "        Genre  Number_of_Movies\n",
       "8       Drama             27065\n",
       "5      Comedy             19508\n",
       "22      Short             12417\n",
       "0      Action              8072\n",
       "2   Adventure              7521"
      ]
     },
     "execution_count": 144,
     "metadata": {},
     "output_type": "execute_result"
    }
   ],
   "source": [
    "# creating the Dataframe containing the Genres and number of movies in that Genres.\n",
    "\n",
    "movies_genres_group = df_movie_analysis.groupby('Genre')\n",
    "top_genres = movies_genres_group['imdbID'].count().reset_index()\n",
    "top_genres.columns = ['Genre', 'Number_of_Movies']\n",
    "top_genres.sort_values(by=['Number_of_Movies'], ascending=False, inplace=True)\n",
    "top_genres.head(5)"
   ]
  },
  {
   "cell_type": "code",
   "execution_count": 154,
   "metadata": {},
   "outputs": [],
   "source": [
    "# creating the list of top 5 genres.\n",
    "top_five_genres = top_genres.Genre.unique().tolist()[:5]"
   ]
  },
  {
   "cell_type": "code",
   "execution_count": 151,
   "metadata": {},
   "outputs": [
    {
     "name": "stderr",
     "output_type": "stream",
     "text": [
      "100%|██████████| 127347/127347 [00:00<00:00, 236993.86it/s]\n"
     ]
    }
   ],
   "source": [
    "# Creating a column for keep the status of top 5 Genres.\n",
    "df_movie_analysis['Keep_Genre'] = df_movie_analysis[df_movie_analysis.Genre.notna()].Genre.progress_apply(lambda genre: True if genre in top_five_genres else False)"
   ]
  },
  {
   "cell_type": "code",
   "execution_count": 153,
   "metadata": {},
   "outputs": [],
   "source": [
    "# creating a dataset from top 5 genres.\n",
    "df_genres_analysis = df_movie_analysis[df_movie_analysis.Keep_Genre == True]"
   ]
  },
  {
   "cell_type": "code",
   "execution_count": 161,
   "metadata": {},
   "outputs": [],
   "source": [
    "# Filtering the dataset according to the date.\n",
    "df_genres_analysis = df_genres_analysis[df_genres_analysis.Year >= 2000]\n",
    "movies_genres_with_year_group = df_genres_analysis.groupby(['Year', 'Genre'])"
   ]
  },
  {
   "cell_type": "code",
   "execution_count": 162,
   "metadata": {},
   "outputs": [
    {
     "data": {
      "text/plain": [
       "<matplotlib.axes._subplots.AxesSubplot at 0x7f2e1251d710>"
      ]
     },
     "execution_count": 162,
     "metadata": {},
     "output_type": "execute_result"
    },
    {
     "data": {
      "image/png": "[encoded data removed]",
      "text/plain": [
       "<Figure size 1512x792 with 1 Axes>"
      ]
     },
     "metadata": {
      "needs_background": "light"
     },
     "output_type": "display_data"
    }
   ],
   "source": [
    "# Movies plot according to the Genre and their rating according to a specific year.\n",
    "\n",
    "fig, ax = plt.subplots()\n",
    "\n",
    "fig.set_size_inches(21, 11)\n",
    "sns.pointplot(x = 'Year', y = 'imdbRating', data = movies_genres_with_year_group['imdbRating'].mean().reset_index(), hue = 'Genre', ax = ax)"
   ]
  },
  {
   "cell_type": "code",
   "execution_count": 163,
   "metadata": {},
   "outputs": [
    {
     "data": {
      "text/plain": [
       "<matplotlib.axes._subplots.AxesSubplot at 0x7f2df0f5cf28>"
      ]
     },
     "execution_count": 163,
     "metadata": {},
     "output_type": "execute_result"
    },
    {
     "data": {
      "image/png": "[encoded data removed]",
      "text/plain": [
       "<Figure size 1512x792 with 1 Axes>"
      ]
     },
     "metadata": {
      "needs_background": "light"
     },
     "output_type": "display_data"
    }
   ],
   "source": [
    "# Movies plot according to the Genre and number of movies genereated in a specific year.\n",
    "\n",
    "fig, ax = plt.subplots()\n",
    "\n",
    "fig.set_size_inches(21, 11)\n",
    "sns.pointplot(x = 'Year', y = 'imdbID', data = movies_genres_with_year_group['imdbID'].count().reset_index(), hue = 'Genre', ax = ax)"
   ]
  },
  {
   "cell_type": "markdown",
   "metadata": {},
   "source": [
    "### 3) Actors Analysis"
   ]
  },
  {
   "cell_type": "code",
   "execution_count": null,
   "metadata": {},
   "outputs": [],
   "source": []
  },
  {
   "cell_type": "code",
   "execution_count": 143,
   "metadata": {},
   "outputs": [
    {
     "name": "stdout",
     "output_type": "stream",
     "text": [
      "Mel Blanc had acted in 269 movies.\n",
      "Jim Cummings had acted in 202 movies.\n",
      "Tim Turner had acted in 142 movies.\n",
      "Chris Pontius had acted in 126 movies.\n",
      "June Foray had acted in 123 movies.\n",
      "Steve Buscemi had acted in 99 movies.\n",
      "Grey DeLisle had acted in 84 movies.\n",
      "Billy Connolly had acted in 84 movies.\n",
      "Tony Goldwyn had acted in 81 movies.\n",
      "Manoëlle Gaillard had acted in 75 movies.\n",
      "Rick Moranis had acted in 75 movies.\n"
     ]
    }
   ],
   "source": [
    "# Checking the Top 10 actors with most number of movies\n",
    "actors_with_movies_counts = dict( sorted(dict(Counter(df_movie_analysis.Actors.tolist())).items(), key=operator.itemgetter(1),reverse=True))\n",
    "for i, (actors, num_movies) in enumerate(actors_with_movies_counts.items()):\n",
    "    if i > 10: break\n",
    "    print('{actors} had acted in {movies} movies.'.format(actors=actors, movies=num_movies))"
   ]
  },
  {
   "cell_type": "code",
   "execution_count": 156,
   "metadata": {},
   "outputs": [
    {
     "data": {
      "text/html": [
       "<div>\n",
       "<style scoped>\n",
       "    .dataframe tbody tr th:only-of-type {\n",
       "        vertical-align: middle;\n",
       "    }\n",
       "\n",
       "    .dataframe tbody tr th {\n",
       "        vertical-align: top;\n",
       "    }\n",
       "\n",
       "    .dataframe thead th {\n",
       "        text-align: right;\n",
       "    }\n",
       "</style>\n",
       "<table border=\"1\" class=\"dataframe\">\n",
       "  <thead>\n",
       "    <tr style=\"text-align: right;\">\n",
       "      <th></th>\n",
       "      <th>Actors</th>\n",
       "      <th>Genre</th>\n",
       "      <th>Number_of_Movies</th>\n",
       "    </tr>\n",
       "  </thead>\n",
       "  <tbody>\n",
       "    <tr>\n",
       "      <th>36131</th>\n",
       "      <td>Mel Blanc</td>\n",
       "      <td>Short</td>\n",
       "      <td>79</td>\n",
       "    </tr>\n",
       "    <tr>\n",
       "      <th>50863</th>\n",
       "      <td>Tim Turner</td>\n",
       "      <td>Short</td>\n",
       "      <td>71</td>\n",
       "    </tr>\n",
       "    <tr>\n",
       "      <th>37951</th>\n",
       "      <td>Momiji Yamamura</td>\n",
       "      <td>Mystery</td>\n",
       "      <td>48</td>\n",
       "    </tr>\n",
       "    <tr>\n",
       "      <th>36129</th>\n",
       "      <td>Mel Blanc</td>\n",
       "      <td>Family</td>\n",
       "      <td>71</td>\n",
       "    </tr>\n",
       "    <tr>\n",
       "      <th>25191</th>\n",
       "      <td>Jim Cummings</td>\n",
       "      <td>Drama</td>\n",
       "      <td>59</td>\n",
       "    </tr>\n",
       "    <tr>\n",
       "      <th>50862</th>\n",
       "      <td>Tim Turner</td>\n",
       "      <td>Documentary</td>\n",
       "      <td>71</td>\n",
       "    </tr>\n",
       "    <tr>\n",
       "      <th>8959</th>\n",
       "      <td>Chris Pontius</td>\n",
       "      <td>Comedy</td>\n",
       "      <td>42</td>\n",
       "    </tr>\n",
       "    <tr>\n",
       "      <th>36126</th>\n",
       "      <td>Mel Blanc</td>\n",
       "      <td>Animation</td>\n",
       "      <td>90</td>\n",
       "    </tr>\n",
       "    <tr>\n",
       "      <th>25189</th>\n",
       "      <td>Jim Cummings</td>\n",
       "      <td>Animation</td>\n",
       "      <td>68</td>\n",
       "    </tr>\n",
       "    <tr>\n",
       "      <th>8958</th>\n",
       "      <td>Chris Pontius</td>\n",
       "      <td>Action</td>\n",
       "      <td>42</td>\n",
       "    </tr>\n",
       "  </tbody>\n",
       "</table>\n",
       "</div>"
      ],
      "text/plain": [
       "                Actors        Genre  Number_of_Movies\n",
       "36131        Mel Blanc        Short                79\n",
       "50863       Tim Turner        Short                71\n",
       "37951  Momiji Yamamura      Mystery                48\n",
       "36129        Mel Blanc       Family                71\n",
       "25191     Jim Cummings        Drama                59\n",
       "50862       Tim Turner  Documentary                71\n",
       "8959     Chris Pontius       Comedy                42\n",
       "36126        Mel Blanc    Animation                90\n",
       "25189     Jim Cummings    Animation                68\n",
       "8958     Chris Pontius       Action                42"
      ]
     },
     "execution_count": 156,
     "metadata": {},
     "output_type": "execute_result"
    }
   ],
   "source": [
    "actors_group = df_movie_analysis.groupby(['Actors', 'Genre'])\n",
    "actors_favorite_Genre = actors_group['imdbID'].count().reset_index()\n",
    "actors_favorite_Genre.columns = ['Actors', 'Genre', 'Number_of_Movies']\n",
    "actors_favorite_Genre.sort_values(by=['Number_of_Movies'], ascending=False, inplace=True)\n",
    "actors_favorite_Genre[:10].sort_values(by=['Genre'], ascending=False).head(10)"
   ]
  },
  {
   "cell_type": "code",
   "execution_count": null,
   "metadata": {},
   "outputs": [],
   "source": []
  },
  {
   "cell_type": "markdown",
   "metadata": {},
   "source": [
    "### 4) Writer Analysis"
   ]
  },
  {
   "cell_type": "code",
   "execution_count": 138,
   "metadata": {},
   "outputs": [
    {
     "name": "stdout",
     "output_type": "stream",
     "text": [
      "William Shakespeare had written 193 movies.\n",
      "H.M. Walker had written 130 movies.\n",
      "Stephen King had written 121 movies.\n",
      "Michael Maltese had written 96 movies.\n",
      "Charles Dickens had written 91 movies.\n",
      "Edgar Allan Poe had written 84 movies.\n",
      "George H. Plympton had written 82 movies.\n",
      "Jack Kirby had written 82 movies.\n",
      "Jules Verne had written 79 movies.\n",
      "Warren Foster had written 78 movies.\n",
      "Hans Christian Andersen had written 75 movies.\n"
     ]
    }
   ],
   "source": [
    "# Checking the Top 10 Writer with most number of movies\n",
    "writer_with_movies_counts = dict( sorted(dict(Counter(df_movie_analysis.Person.tolist())).items(), key=operator.itemgetter(1),reverse=True))\n",
    "for i, (writer, num_movies) in enumerate(writer_with_movies_counts.items()):\n",
    "    if i > 10: break\n",
    "    print('{writer} had written {movies} movies.'.format(writer=writer, movies=num_movies))"
   ]
  },
  {
   "cell_type": "code",
   "execution_count": 139,
   "metadata": {},
   "outputs": [
    {
     "data": {
      "text/html": [
       "<div>\n",
       "<style scoped>\n",
       "    .dataframe tbody tr th:only-of-type {\n",
       "        vertical-align: middle;\n",
       "    }\n",
       "\n",
       "    .dataframe tbody tr th {\n",
       "        vertical-align: top;\n",
       "    }\n",
       "\n",
       "    .dataframe thead th {\n",
       "        text-align: right;\n",
       "    }\n",
       "</style>\n",
       "<table border=\"1\" class=\"dataframe\">\n",
       "  <thead>\n",
       "    <tr style=\"text-align: right;\">\n",
       "      <th></th>\n",
       "      <th>Writer</th>\n",
       "      <th>Genre</th>\n",
       "      <th>Number_of_Movies</th>\n",
       "    </tr>\n",
       "  </thead>\n",
       "  <tbody>\n",
       "    <tr>\n",
       "      <th>30726</th>\n",
       "      <td>H.M. Walker</td>\n",
       "      <td>Short</td>\n",
       "      <td>53</td>\n",
       "    </tr>\n",
       "    <tr>\n",
       "      <th>77994</th>\n",
       "      <td>Stephen King</td>\n",
       "      <td>Horror</td>\n",
       "      <td>33</td>\n",
       "    </tr>\n",
       "    <tr>\n",
       "      <th>86478</th>\n",
       "      <td>William Shakespeare</td>\n",
       "      <td>Drama</td>\n",
       "      <td>52</td>\n",
       "    </tr>\n",
       "    <tr>\n",
       "      <th>12205</th>\n",
       "      <td>Charles Dickens</td>\n",
       "      <td>Drama</td>\n",
       "      <td>32</td>\n",
       "    </tr>\n",
       "    <tr>\n",
       "      <th>10769</th>\n",
       "      <td>C. Gardner Sullivan</td>\n",
       "      <td>Drama</td>\n",
       "      <td>29</td>\n",
       "    </tr>\n",
       "    <tr>\n",
       "      <th>30723</th>\n",
       "      <td>H.M. Walker</td>\n",
       "      <td>Comedy</td>\n",
       "      <td>57</td>\n",
       "    </tr>\n",
       "    <tr>\n",
       "      <th>86475</th>\n",
       "      <td>William Shakespeare</td>\n",
       "      <td>Comedy</td>\n",
       "      <td>45</td>\n",
       "    </tr>\n",
       "    <tr>\n",
       "      <th>27819</th>\n",
       "      <td>George Ade</td>\n",
       "      <td>Comedy</td>\n",
       "      <td>33</td>\n",
       "    </tr>\n",
       "    <tr>\n",
       "      <th>58280</th>\n",
       "      <td>Michael Maltese</td>\n",
       "      <td>Animation</td>\n",
       "      <td>32</td>\n",
       "    </tr>\n",
       "    <tr>\n",
       "      <th>35434</th>\n",
       "      <td>Jack Kirby</td>\n",
       "      <td>Action</td>\n",
       "      <td>28</td>\n",
       "    </tr>\n",
       "  </tbody>\n",
       "</table>\n",
       "</div>"
      ],
      "text/plain": [
       "                    Writer      Genre  Number_of_Movies\n",
       "30726          H.M. Walker      Short                53\n",
       "77994         Stephen King     Horror                33\n",
       "86478  William Shakespeare      Drama                52\n",
       "12205      Charles Dickens      Drama                32\n",
       "10769  C. Gardner Sullivan      Drama                29\n",
       "30723          H.M. Walker     Comedy                57\n",
       "86475  William Shakespeare     Comedy                45\n",
       "27819           George Ade     Comedy                33\n",
       "58280      Michael Maltese  Animation                32\n",
       "35434           Jack Kirby     Action                28"
      ]
     },
     "execution_count": 139,
     "metadata": {},
     "output_type": "execute_result"
    }
   ],
   "source": [
    "movies_writer_group = df_movie_analysis.groupby(['Person', 'Genre'])\n",
    "witer_favorite_Genre = movies_writer_group['imdbID'].count().reset_index()\n",
    "witer_favorite_Genre.columns = ['Writer', 'Genre', 'Number_of_Movies']\n",
    "witer_favorite_Genre.sort_values(by=['Number_of_Movies'], ascending=False, inplace=True)\n",
    "witer_favorite_Genre[:10].sort_values(by=['Genre'], ascending=False).head(10)"
   ]
  },
  {
   "cell_type": "code",
   "execution_count": null,
   "metadata": {},
   "outputs": [],
   "source": []
  },
  {
   "cell_type": "code",
   "execution_count": null,
   "metadata": {},
   "outputs": [],
   "source": []
  },
  {
   "cell_type": "code",
   "execution_count": null,
   "metadata": {},
   "outputs": [],
   "source": []
  },
  {
   "cell_type": "markdown",
   "metadata": {},
   "source": [
    "## Creating the Connection to the sqlite database."
   ]
  },
  {
   "cell_type": "code",
   "execution_count": 88,
   "metadata": {},
   "outputs": [],
   "source": [
    "# Creating the connection to the database.\n",
    "conn = sqlite3.connect('database/movies_database.db')"
   ]
  },
  {
   "cell_type": "code",
   "execution_count": 89,
   "metadata": {},
   "outputs": [],
   "source": [
    "# creating the cursor for executing the queries.\n",
    "cursor = conn.cursor()"
   ]
  },
  {
   "cell_type": "code",
   "execution_count": null,
   "metadata": {},
   "outputs": [],
   "source": []
  },
  {
   "cell_type": "code",
   "execution_count": null,
   "metadata": {},
   "outputs": [],
   "source": []
  },
  {
   "cell_type": "code",
   "execution_count": 90,
   "metadata": {},
   "outputs": [],
   "source": [
    "# closing the cursor connection.\n",
    "cursor.close()"
   ]
  }
 ],
 "metadata": {
  "kernelspec": {
   "display_name": "Python 3",
   "language": "python",
   "name": "python3"
  },
  "language_info": {
   "codemirror_mode": {
    "name": "ipython",
    "version": 3
   },
   "file_extension": ".py",
   "mimetype": "text/x-python",
   "name": "python",
   "nbconvert_exporter": "python",
   "pygments_lexer": "ipython3",
   "version": "3.6.2"
  }
 },
 "nbformat": 4,
 "nbformat_minor": 2
}
